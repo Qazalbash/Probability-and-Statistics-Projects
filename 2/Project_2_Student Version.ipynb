{
  "cells": [
    {
      "cell_type": "markdown",
      "metadata": {
        "id": "Y2WOgzp6c9kr"
      },
      "source": [
        "# Setup\n"
      ]
    },
    {
      "cell_type": "code",
      "execution_count": 1,
      "metadata": {
        "id": "a2EMpr1aY6VW"
      },
      "outputs": [],
      "source": [
        "# Importing the required modules\n",
        "import numpy as np\n",
        "import pandas as pd\n",
        "import matplotlib.pyplot as plt\n",
        "import scipy.stats as stats\n",
        "\n",
        "# Libraries Imported for Verifying your results in Task 02\n",
        "from sklearn.feature_extraction.text import CountVectorizer\n",
        "from sklearn.feature_extraction.text import TfidfTransformer\n",
        "from sklearn.model_selection import train_test_split\n",
        "from sklearn.naive_bayes import BernoulliNB\n",
        "from sklearn import metrics\n"
      ]
    },
    {
      "cell_type": "code",
      "execution_count": 3,
      "metadata": {
        "colab": {
          "base_uri": "https://localhost:8080/"
        },
        "id": "XmB5ZC_iJVJw",
        "outputId": "33151404-0a38-49a9-89da-c06d12ccd053"
      },
      "outputs": [],
      "source": [
        "# Downloading CSV Dataset for Naive Bayes\n",
        "# !gdown  https://drive.google.com/uc?id=134-Blu7RRQ8s-MN4kaoih9Gx2TwObxIo\n"
      ]
    },
    {
      "cell_type": "markdown",
      "metadata": {
        "id": "2Ur0TanwrLok"
      },
      "source": [
        "# [40 Marks] Task 1: A drunkard's walk\n"
      ]
    },
    {
      "cell_type": "markdown",
      "metadata": {
        "id": "3UU1nukstphi"
      },
      "source": [
        "## Random Walk\n",
        "\n",
        "A random walk is a mathematical object, known as a stochastic or random process, that describes a path that consists of a succession of random steps on some mathematical space such as the integers. Mathematical modelling of the movement of animals, micro-organisms and cells is of great relevance in the fields of biology, ecology and medicine.\n"
      ]
    },
    {
      "cell_type": "markdown",
      "metadata": {
        "id": "FWOuUYiVtqKj"
      },
      "source": [
        "## Simulating the Drunkard\n",
        "\n",
        "A very simple random walk can be simulated by imagining an object starting at $x=0$ on a number line. The object is going to take an $n$ number of steps of one unit each, where each step can be right or left with probabilities $p$ and $1-p$ respectively.\n",
        "\n",
        "Intuitively one can judge that if $p=0.5$, then the object will return to its starting position often, or at least close to it. We are going to confirm this using simulation.\n"
      ]
    },
    {
      "cell_type": "markdown",
      "metadata": {
        "id": "d3M7kLyMtqvi"
      },
      "source": [
        "## Experiment\n",
        "\n",
        "The number of steps to the left or right as determined by the probabilities ($p$ to go right, $1-p$ to move left) is given by $n$. This procedure will be repeated $\\texttt{SIM\\_TIMES}$ times, and you can use the data to calculate the expected position of the object. Even if we use $p=0.5$, the predicted value will not always be zero because this is a simulation.\n"
      ]
    },
    {
      "cell_type": "markdown",
      "metadata": {
        "id": "0ihGt0Rpuqcq"
      },
      "source": [
        "## Task Overview\n",
        "\n",
        "In this Task, you will be simulating a Drunkard's Walk which has been split into three parts.\n",
        "\n",
        "- In Part A, you are required to express the end position of the object as a Linear Function\n",
        "- In Part B, you are required to simulate the Experiment based on the Linear Function you derived in Part A.\n",
        "- In Part C, you are required to interpret the results when the experiment is repeated for multiple values of n.\n"
      ]
    },
    {
      "cell_type": "markdown",
      "metadata": {
        "id": "uxz5YApam4pI"
      },
      "source": [
        "## [10 Marks] Part A : Linear Function\n",
        "\n",
        "**Express the ending position in terms of a linear function using binomial random variable $X$ with parameters $n,p$ and the variable $n$.**\n"
      ]
    },
    {
      "cell_type": "markdown",
      "metadata": {
        "id": "4WsWdBrmPKKu"
      },
      "source": [
        "**Answer:**\n",
        "\n",
        "Let suppose $Y$ is the final position of the random walk that started from $x_0$.\n",
        "$$Y=x_0+X$$\n",
        "$$Y=x_0+\\sum_{i=1}^{n}X_{i}$$\n",
        "$X_1$, $X_2$, $\\cdots$, $X_n$ are discrete independent random variables that are defined as,\n",
        "$$X_i=\\begin{cases}1&\\text{if }i^{th}\\text{ step is in right direction}\\\\-1&\\text{if }i^{th}\\text{ step is in left direction}\\end{cases}\\qquad \\qquad \\forall i\\in\\{1,2,3\\cdots,n\\}$$\n",
        "with the probablity mass function defined as,\n",
        "$$P(X=x)=\\begin{cases}p&x=1\\\\1-p&x=-1\\end{cases}$$\n",
        "\n",
        "<!-- Let $S_{i}$ be a random variable of $i^{th}$ step of the random walk. It is defined as,\n",
        "$$S_{i}:=\\begin{cases}1&\\text{if direction is right}\\\\-1&\\text{if direction is left}\\end{cases}$$\n",
        "Our final position will be the sum of the of all the step, if $S_{n+1}$ represent the final position after $n$ steps with probablity $p$ to go right.\n",
        "$$S_{n+1}=\\sum_{i=0}^{n}S_{i}\\qquad S_{0}=0$$\n",
        "The average value of the walk will be the expected value of the $S_{n+1}$.\n",
        "$$E(S_{n+1})=E\\left(\\sum_{i=0}^{n}S_{i}\\right)$$\n",
        "$$E(S_{n+1})=\\sum_{i=0}^{n}E(S_{i})$$\n",
        "$$E(S_{n+1})=\\sum_{i=0}^{n}\\left((1)(p)+(-1)(1-p)\\right)$$\n",
        "$$E(S_{n+1})=\\sum_{i=0}^{n}\\left(2p-1\\right)$$\n",
        "$$E(S_{n+1})=n\\left(2p-1\\right)$$ -->\n"
      ]
    },
    {
      "cell_type": "markdown",
      "metadata": {
        "id": "eEf6x1_MG6ZT"
      },
      "source": [
        "## [20 Marks] Part B : Random Walk\n",
        "\n",
        "**Complete the function $\\texttt{random\\_walk}$ which simulates a binomial random variable with parameters $(n,p)$ $\\texttt{SIM\\_TIMES}$ and computes the expected value of the random variable (using simulation data) and plots the histogram of the distribution of simulation results.**\n",
        "\n",
        "**Run this function for $n=100,p=0.5,\\texttt{SIM\\_TIMES}=100,000$ and another set of values of your choice.**\n"
      ]
    },
    {
      "cell_type": "code",
      "execution_count": 9,
      "metadata": {
        "colab": {
          "base_uri": "https://localhost:8080/",
          "height": 282
        },
        "id": "amhWkgPkLkDe",
        "outputId": "96208b72-0f39-46e2-ab00-9e6ea2f95881"
      },
      "outputs": [
        {
          "data": {
            "text/plain": [
              "799.23"
            ]
          },
          "execution_count": 9,
          "metadata": {},
          "output_type": "execute_result"
        },
        {
          "data": {
            "image/png": "[encoded data removed]",
            "text/plain": [
              "<Figure size 432x288 with 1 Axes>"
            ]
          },
          "metadata": {
            "needs_background": "light"
          },
          "output_type": "display_data"
        }
      ],
      "source": [
        "def random_walk(n, p, SIM_TIMES):\n",
        "    # TODO: Complete the function\n",
        "    # compute the binomial random variable using the given parameters and the above defined function\n",
        "    walk = {i: 0 for i in range(-n, n + 1)}\n",
        "    x0 = 0\n",
        "    mean = 0\n",
        "    while SIM_TIMES:\n",
        "        y = x0\n",
        "        itteration = 0\n",
        "        while itteration < n:\n",
        "            itteration += 1\n",
        "            y += np.random.choice([1, -1], p=[p, 1 - p])\n",
        "        walk[y] = walk.get(y) + 1\n",
        "        mean += y\n",
        "        SIM_TIMES -= 1\n",
        "\n",
        "    # draw the histograms\n",
        "    plt.bar(x=walk.keys(), height=walk.values())\n",
        "    plt.plot()\n",
        "\n",
        "    # return the mean\n",
        "    return mean / n\n",
        "\n",
        "\n",
        "random_walk(1000, 0.9, 1000)\n"
      ]
    },
    {
      "cell_type": "markdown",
      "metadata": {
        "id": "EJhidbEsG9U6"
      },
      "source": [
        "## [10 Marks] Part C : Result Interpretation\n",
        "\n",
        "**Complete the function $\\texttt{part\\_3}$ such that given $p,\\texttt{SIM\\_TIMES}$ it computes $$\\frac{2n}{\\text{Expected Distance from Origin}}$$ for $n=1000,2000,3000,\\dots,100,000$\n",
        "and draw a _line chart_ of the obtained values.**\n",
        "\n",
        "**Then test the function on $p=0.5,\\texttt{SIM\\_TIMES} =10,000$ and write down anything interesting you notice about the graph.**\n"
      ]
    },
    {
      "cell_type": "code",
      "execution_count": 6,
      "metadata": {
        "colab": {
          "base_uri": "https://localhost:8080/",
          "height": 281
        },
        "id": "g9mll8LJPGfB",
        "outputId": "bb00fc96-a269-40f1-c511-39c253eeb83f"
      },
      "outputs": [
        {
          "name": "stdout",
          "output_type": "stream",
          "text": [
            "1000 2000 3000 4000 5000 6000 7000 8000 9000 10000 11000 12000 13000 14000 15000 16000 17000 18000 19000 20000 21000 22000 23000 24000 25000 26000 27000 28000 29000 30000 31000 32000 33000 34000 35000 36000 37000 38000 39000 40000 41000 42000 43000 44000 45000 46000 47000 48000 49000 50000 51000 52000 53000 54000 55000 56000 57000 58000 59000 60000 61000 62000 63000 64000 65000 66000 67000 68000 69000 70000 71000 72000 73000 74000 75000 76000 77000 78000 79000 80000 81000 82000 83000 84000 85000 86000 87000 88000 89000 90000 91000 92000 93000 94000 95000 96000 97000 98000 99000 100000 [1000, 2000, 3000, 4000, 5000, 6000, 7000, 8000, 9000, 10000, 11000, 12000, 13000, 14000, 15000, 16000, 17000, 18000, 19000, 20000, 21000, 22000, 23000, 24000, 25000, 26000, 27000, 28000, 29000, 30000, 31000, 32000, 33000, 34000, 35000, 36000, 37000, 38000, 39000, 40000, 41000, 42000, 43000, 44000, 45000, 46000, 47000, 48000, 49000, 50000, 51000, 52000, 53000, 54000, 55000, 56000, 57000, 58000, 59000, 60000, 61000, 62000, 63000, 64000, 65000, 66000, 67000, 68000, 69000, 70000, 71000, 72000, 73000, 74000, 75000, 76000, 77000, 78000, 79000, 80000, 81000, 82000, 83000, 84000, 85000, 86000, 87000, 88000, 89000, 90000, 91000, 92000, 93000, 94000, 95000, 96000, 97000, 98000, 99000, 100000] [-7874.015748031496, -16326.530612244898, -31468.531468531466, -42105.26315789473, -48262.54826254826, -58252.427184466025, -78525.64102564102, -71991.0011248594, -93317.97235023041, -99502.48756218905, -110100.09099181074, -117647.05882352941, -131211.1801242236, -139800.2853067047, -144974.22680412373, -157635.46798029557, -166955.51704217217, -173633.44051446943, -202240.89635854342, -194741.96689386564, -222727.2727272727, -219103.66681756452, -234174.41345728197, -247210.30042918457, -250200.1601281025, -257621.9512195122, -273751.40818625607, -295849.0566037736, -279123.79688018584, -297225.891677675, -330467.67537826684, -322926.5216020183, -320105.8201058201, -329814.5506419401, -346927.21608609456, -362213.5271101174, -362456.9764363251, -386302.83574103797, -394143.56050790363, -399201.59680638724, -419306.5602394612, -411092.98531810765, -428604.54334724153, -450546.8931812893, -462223.2367039489, -462311.5577889447, -465640.8094435076, -469629.02568283735, -492310.8468320689, -510933.9873288371, -499136.44214162347, -509515.7339363105, -552191.8616080205, -560877.0917484132, -550500.4549590537, -542466.7012627573, -562013.4924753503, -580100.0172443525, -588702.8581092509, -614020.1262152483, -599291.3512642938, -628618.1520850367, -636363.6363636364, -608346.9478687064, -651804.9984572663, -682651.6220028208, -673720.5463004652, -698489.4259818732, -684051.724137931, -689461.0946953708, -717375.8360609079, -722005.5710306406, -744585.7202738577, -731401.095231735, -744934.4457687723, -754835.3371667537, -756346.4727643832, -775130.5898840617, -797368.0848345471, -811564.7983768705, -806911.818964457, -798764.5521501545, -821096.5435041717, -838104.2879201805, -870586.8176888782, -870322.4288067782, -875636.2795002314, -890421.9845923883, -873896.7343336275, -915254.2372881357, -874722.7210309496, -929497.0349220294, -916304.6932937811, -942004.2643923241, -935620.9827907941, -954234.8312279976, -962951.5914440692, -996162.2238357016, -989100.8174386921, -987166.8311944718]\n"
          ]
        },
        {
          "data": {
            "image/png": "[encoded data removed]",
            "text/plain": [
              "<Figure size 432x288 with 1 Axes>"
            ]
          },
          "metadata": {
            "needs_background": "light"
          },
          "output_type": "display_data"
        }
      ],
      "source": [
        "def part_3(p, SIM_TIMES):\n",
        "    # TODO: Complete the function and remember to label the axes appropriately\n",
        "    while SIM_TIMES:\n",
        "        n = 1000\n",
        "        Y = []\n",
        "        X = []\n",
        "        # EX = n*(2*p-1)\n",
        "        # mu = EX\n",
        "        while n <= 100000:\n",
        "            mu = random_walk(n, p, 1)\n",
        "            X.append(n)\n",
        "            Y.append(2 * n / mu)\n",
        "            # print(n, end=\" \")\n",
        "            n += 1000\n",
        "        # print(Y)\n",
        "        SIM_TIMES -= 1\n",
        "\n",
        "    plt.plot(X, Y)\n",
        "    plt.show()\n",
        "\n",
        "\n",
        "part_3(0.4, 1)\n"
      ]
    },
    {
      "cell_type": "markdown",
      "metadata": {
        "id": "kSQiT19wdDlM"
      },
      "source": [
        "# [50 Marks] Task 2 : Maximum Likehlihood Estimation\n"
      ]
    },
    {
      "cell_type": "markdown",
      "metadata": {
        "id": "ALLwgeAQLGbd"
      },
      "source": [
        "## Theoretical Background\n",
        "\n",
        "A common task in statistics is estimating a joint probability distribution\n",
        "given a dataset. For example, suppose you have a sample of observations $(X)$ from a domain $(x_1, x_2, x_3, ⋯, x_n)$, and each observation is taken separately from the domain with the same probability distribution. Density estimation entails choosing a probability distribution function and the distribution's parameters that best describe the observed data's joint probability distribution $(X)$. Maximum a Posteriori (MAP), a Bayesian approach, and Maximum Likelihood Estimation (MLE), a frequentist approach, are the two most popular approaches to solving this problem. However, we will just be discussing MLE in this section.\n",
        "\n",
        "Maximum Likelihood Estimation entails approaching the situation as an optimization or search problem, in which we seek a set of parameters that results in the best fit for the joint probability of the data sample ($X$).\n",
        "In Maximum Likelihood Estimation, we wish to maximize the probability of observing the data from the joint probability distribution given a specific probability distribution and its parameters, stated formally as:\n",
        "\n",
        "$$ P ( X \\mid \\theta) $$\n",
        "where $\\theta$ is the unknown parameter(s).\n",
        "\n",
        "The resulting conditional probability is referred to as the likelihood of observing the data given the model parameters and is written using the notation $L()$ to denote the likelihood function. For example,\n",
        "$$ L (X \\mid \\theta) $$\n",
        "\n",
        "**Note :** Likelihood is defined as probability of the data given the model.\n",
        "\n",
        "The objective of Maximum Likelihood Estimation is to find set of parameters $(\\theta)$ that maximize the likelihood function.\n",
        "$$ \\text{ maximize } L ( X \\mid \\theta) $$\n",
        "\n",
        "Given that the sample is comprised of $n$ examples, we can frame this as the joint probability of the observed data samples $x_1,x_2, \\cdots, x_n$ given the Probability distribution parameters $(\\theta)$:\n",
        "\n",
        "$$ L (x_1, x_2, \\cdots, x_n \\mid \\theta) $$\n",
        "\n",
        "The joint probability distribution can be restated as the multiplication of the conditional probability for observing each example given the distribution parameters.\n",
        "\n",
        "$$ P ( X | \\theta) = P ( x*1, x_2, \\cdots, x_n \\mid \\theta) = \\prod*{i=1}^{n} P(x_i | \\theta) $$\n",
        "\n",
        "Multiplying many small probabilities together can be numerically unstable in practice, therefore, it is common to restate this problem as the sum of the log conditional probabilities of observing each example given the model parameters.\n",
        "\n",
        "$$ P ( X \\mid \\theta) = \\sum\\_{i=1}^{n} \\log(P(x_i \\mid \\theta)) $$\n"
      ]
    },
    {
      "cell_type": "markdown",
      "metadata": {
        "id": "wVbavcIXusl3"
      },
      "source": [
        "## Example\n",
        "\n",
        "Let's suppose our vocabulary has only two words i.e. {0,1}. In addition, suppose we are given the document D = {1100}. Furthermore, you are given two multinomial models $ A, B$ with parameters , $ A_0 = 0.2, A_1 = 0.8 ; B_0 = 0.4, B_1 = 0.6 $. Now you are required to find which model has most likely generated this document.\n",
        "\n",
        "In order to find which model has most likely generated this document, we will compute the likelihood of both models for generating the given document and then choose the maximum likelihood.\n",
        "\n",
        "$$ P( D | A ) = (0.2)^{2} \\cdot (0.8)^{2} = 0.0256 $$\n",
        "$$ P( D | B ) = (0.4)^{2} \\cdot (0.6)^{2} = 0.0576 $$\n",
        "\n",
        "Since $ P ( D | B) > P ( D | A) $, Model B has most likely generated this document.\n"
      ]
    },
    {
      "cell_type": "markdown",
      "metadata": {
        "id": "qjwlv7rk0bhC"
      },
      "source": [
        "## Task Overview\n",
        "\n",
        "You will do MLE for Binomial distribution in Task 02, which has been split into four parts.\n",
        "\n",
        "- In Part A, you are required to generate Binomial Random Numbers.\n",
        "- In Part B, you are required to compute likelihood for the data generated in Part A.\n",
        "- In Part C, you are required to compute maximum log likelihood to estimate the value of $p$.\n",
        "- In Part D, you are required to provide reasoning based on your own understanding for the differences between the theoretical and estimated values of $p$.\n"
      ]
    },
    {
      "cell_type": "markdown",
      "metadata": {
        "id": "cYd51_Fse7t8"
      },
      "source": [
        "## [10 Marks] Part A : Generate Binomial Random Numbers\n",
        "\n",
        "**Complete the function $\\texttt{generate\\_random\\_data}$ which generates a binomial random variable with parameters $(size,p,n)$ and plots the histogram of the distribution of simulation results.**\n",
        "\n",
        "**The function $\\texttt{generate\\_random\\_data}$ has already been called for you with $size=30$, $n=10$, and $p=0.5$**\n"
      ]
    },
    {
      "cell_type": "code",
      "execution_count": null,
      "metadata": {
        "id": "FLLJUnOQZ9l1"
      },
      "outputs": [],
      "source": [
        "def generate_random_data(size, p, n):\n",
        "    \"\"\"\n",
        "    size: The number of experiments\n",
        "    p: Probability of success\n",
        "    n: Number of trials in each experiment\n",
        "    \"\"\"\n",
        "    np.random.seed(255)\n",
        "    # Generating Random Binomial Numbers\n",
        "\n",
        "    # Print the generated random numbers\n",
        "\n",
        "    # Visualize the generated random number\n",
        "\n",
        "    # return the generated Binomial Numbers\n"
      ]
    },
    {
      "cell_type": "code",
      "execution_count": null,
      "metadata": {
        "colab": {
          "base_uri": "https://localhost:8080/",
          "height": 312
        },
        "id": "8I5uzbkPqIc6",
        "outputId": "c892baaa-1706-463c-877d-36217ca9f594"
      },
      "outputs": [
        {
          "name": "stdout",
          "output_type": "stream",
          "text": [
            "[5 4 4 2 6 4 5 4 5 4 3 6 4 3 5 6 5 6 4 8 5 8 5 5 6 1 5 5 5 3]\n"
          ]
        },
        {
          "data": {
            "image/png": "[encoded data removed]",
            "text/plain": [
              "<Figure size 432x288 with 1 Axes>"
            ]
          },
          "metadata": {
            "needs_background": "light"
          },
          "output_type": "display_data"
        }
      ],
      "source": [
        "# Do not edit.\n",
        "X = generate_random_data(size=30, p=0.5, n=10)\n"
      ]
    },
    {
      "cell_type": "markdown",
      "metadata": {
        "id": "5rnL8-PZgwVh"
      },
      "source": [
        "## [10 Marks] Part B : Compute Likelihood\n",
        "\n",
        "**Complete the function $\\texttt{calculate\\_likelihood}$ which computes the likelihood of X given p binomial with parameters $(p,X)$**\n",
        "\n",
        "**The function $\\texttt{calculate\\_likelihood}$ has already been called for you with the data you simulated in Part A and $p=0.5$**\n",
        "\n",
        "**You also are required to comment on the numerical nature of the value that was returned by the function $\\texttt{calculate\\_likelihood}$**\n"
      ]
    },
    {
      "cell_type": "code",
      "execution_count": null,
      "metadata": {
        "id": "2PZ6kPfv7DVc"
      },
      "outputs": [],
      "source": [
        "def calculate_likelihood(p, X):\n",
        "    # TODO : Complete the function\n",
        "    # create a random variable for 10 coin tosses with probability p using stasts.binom\n",
        "\n",
        "    # calculate the PMF of that random variable for values X.\n",
        "\n",
        "    # return the product\n",
        "    pass\n",
        "\n",
        "\n",
        "# Do not edit\n",
        "calculate_likelihood(0.5, X)\n"
      ]
    },
    {
      "cell_type": "markdown",
      "metadata": {
        "id": "t0VCb3hqf6HD"
      },
      "source": [
        "## [20 Marks] Part C : Compute Maximum Log Likelihood\n",
        "\n",
        "**In Part C, you will be completing the functions $\\texttt{calculate\\_log\\_likelihood}$ and $\\texttt{calculate\\_maximum\\_log\\_likelihood}$.**\n",
        "\n",
        "**The function $\\texttt{calculate\\_log\\_likelihood}$ computes the log likelihood of X given p with parameters $(X,p)$. The function $\\texttt{calculate\\_maximum\\_log\\_likelihood}$ computes the maximum likelihood of the given data X and plots a graph of log likelihood vs p with parameters $(X)$.**\n",
        "\n",
        "**The function $\\texttt{calculate\\_log\\_likelihood}$ has already been called for you with the data you simulated in Part A**\n"
      ]
    },
    {
      "cell_type": "code",
      "execution_count": null,
      "metadata": {
        "id": "kfvKgQJ0blx-"
      },
      "outputs": [],
      "source": [
        "# Calculating Likelihood\n",
        "def calculate_log_likelihood(p, X):\n",
        "    # TODO : Complete the function\n",
        "    # create a binomial random variable with parameter 10 and probability p\n",
        "\n",
        "    # create a PMF of that random variable for X\n",
        "\n",
        "    # Calculate the log\n",
        "\n",
        "    # Calculate the summation\n",
        "\n",
        "    # return the result\n",
        "    pass\n"
      ]
    },
    {
      "cell_type": "code",
      "execution_count": null,
      "metadata": {
        "id": "YRxLL0EibtPh"
      },
      "outputs": [],
      "source": [
        "# Compute Maximum Likelihood\n",
        "def calculate_maximum_log_likelihood(X):\n",
        "    # TODO : Complete the function\n",
        "\n",
        "    x = np.linspace(0.01, 1, 1000, endpoint=False)\n",
        "    d = {}\n",
        "\n",
        "    # calculate the log likelihood for each value of x and store it in d[x]\n",
        "\n",
        "    # plot the maximum Likelihood function using d\n",
        "\n",
        "    return (maximum, d[maximum])\n"
      ]
    },
    {
      "cell_type": "code",
      "execution_count": null,
      "metadata": {
        "colab": {
          "base_uri": "https://localhost:8080/",
          "height": 312
        },
        "id": "DpwwXPlyc2YC",
        "outputId": "c089bf7f-dba5-454f-d1a2-807f68ca4939"
      },
      "outputs": [
        {
          "data": {
            "image/png": "[encoded data removed]",
            "text/plain": [
              "<Figure size 432x288 with 1 Axes>"
            ]
          },
          "metadata": {
            "needs_background": "light"
          },
          "output_type": "display_data"
        },
        {
          "name": "stdout",
          "output_type": "stream",
          "text": [
            "0.47035\n"
          ]
        }
      ],
      "source": [
        "exp_p, mle = calculate_maximum_log_likelihood(X)\n",
        "print(exp_p)\n"
      ]
    },
    {
      "cell_type": "markdown",
      "metadata": {
        "id": "KAW3mJLthWeh"
      },
      "source": [
        "## [10 Marks] Part D : Comparision of the theoretical value of $p$ with the estimated value of $p$\n",
        "\n",
        "**In this part, you are required to complete the code which plots the simulated the data, theoretical distribution and the actual distribution on the same plot. You are then required to comment on the distribution of the data generated and how it compares to the theoretical distribution and the estimated distrbution. Furthemore, you are required to provide reasoning based on your own understanding for the differences in the distributions and value of $p$.**\n"
      ]
    },
    {
      "cell_type": "code",
      "execution_count": null,
      "metadata": {
        "colab": {
          "base_uri": "https://localhost:8080/",
          "height": 513
        },
        "id": "4Opjd87pdolw",
        "outputId": "affbc293-eb9a-4faf-fbab-3cf23b7ea911"
      },
      "outputs": [
        {
          "data": {
            "image/png": "[encoded data removed]",
            "text/plain": [
              "<Figure size 576x576 with 1 Axes>"
            ]
          },
          "metadata": {
            "needs_background": "light"
          },
          "output_type": "display_data"
        }
      ],
      "source": [
        "# TODO : Complete the Code Snippet\n",
        "plt.figure(figsize=(8,8))\n",
        "# Plot Data\n",
        "plt.hist(X,bins=[0,1,2,3,4,5,6,7,8,9,10,11], rwidth = 0.5, align = 'left', density=True, color=\"b\", alpha=0.2);\n",
        "n = 10\n",
        "# Plot theoretical distribution\n",
        "rv  =   # create binomial rv for 10 coints with p=0.5 \n",
        "x =     # values which represent the number of heads\n",
        "f =     # f is the pmf of rv for values of x\n",
        "\n",
        "plt.plot(x, f,'-ro', ms=10);\n",
        "plt.vlines(x, 0, f, colors=\"r\", lw=1,alpha=0.5, label='_nolegend_')\n",
        "\n",
        "\n",
        "# Plot MLE Distribution\n",
        "rv  = # create binomial rv for 10 coints with p=0.5 stats.binom(10,exp_p)\n",
        "x =   # values which represent the number of heads np.arange(11)\n",
        "f =   # f is the pmf of rv for values of x\n",
        "\n",
        "plt.plot(x, f,'-go', ms=10);\n",
        "plt.vlines(x, 0, f, colors=\"g\", lw=1,alpha=0.5, label='_nolegend_')\n",
        "\n",
        "\n",
        "# Label, Title, Legend\n",
        "\n",
        "plt.show()\n"
      ]
    },
    {
      "cell_type": "markdown",
      "metadata": {
        "id": "-nU9Grx2TTAm"
      },
      "source": []
    },
    {
      "cell_type": "markdown",
      "metadata": {
        "id": "R1CG3ekPgfe8"
      },
      "source": [
        "# [10 Marks] Task 3 : Naive Bayes Classifier\n"
      ]
    },
    {
      "cell_type": "markdown",
      "metadata": {
        "id": "amaU_1k9PnET"
      },
      "source": [
        "## Bayes Theorem\n",
        "\n",
        "In probability and statistics, Bayes Theorem describes the probability of an event based on prior knowledge of conditions that might be related to the event.\n",
        "\n",
        "Mathematically, Bayes Theorem is given as follows,\n",
        "$$ P(A \\mid B) = \\frac{P( B \\mid A) \\times P(A)}{P(B)} $$\n",
        "\n",
        "where $P(A)$ is the prior probability and $P(A\\mid B)$ is the posterior probability.\n"
      ]
    },
    {
      "cell_type": "markdown",
      "metadata": {
        "id": "661PR7wygJfU"
      },
      "source": [
        "## Naive Bayes Classifier\n",
        "\n",
        "The Naive Bayes Classifier is a classification algorithm based on **Bayes Theorem.**\n",
        "The fundamental Naive Bayes assumption is that each feature makes an\n",
        "\n",
        "- **Independent**\n",
        "- **Equal**\n",
        "\n",
        "contribution to the final outcome.\n",
        "\n",
        "We can apply Bayes' theorem to a given dataset in the following way:\n",
        "\n",
        "$$ P(y\\mid X) = \\frac{P(X\\mid y) \\times P(y)}{P(X)}$$\n",
        "\n",
        "where $y$ is class variable and $X$ is a feature vector of size $n$ represented as $ X = (x_1, x_2,x_3, \\cdots, x_n) $.\n",
        "\n",
        "By subsituiting $X$, we obtain the following result:\n",
        "$$ P(x*1,x_2,x_3,\\cdots,x_n) = \\prod*{i=1}^{n} P(x*i | x_1, \\cdots,x*{i-1},y) $$\n",
        "\n",
        "However, based on the Naive's Bayes assumption of independence we can simplify the above equation as follows:\n",
        "$$ P(x*1,x_2,x_3,\\cdots,x_n) = \\prod*{i=1}^{n} P(x*i | y) $$\n",
        "Consequently, the original equation can be expressed as \n",
        "$$ P(y|x_1,x_2,x_3,\\cdots,x_n) = \\frac{\\prod*{i=1}^{n} P(x_i | y) P(y)}{P(x_1),\\cdots,P(x_n)} $$\n",
        "\n",
        "Furthemore, the denominator is a constant so we can leave it out.\n",
        "$$ P(y|x*1,x_2,x_3,\\cdots,x_n) \\propto P(y) \\prod*{i=1}^{n} P(x_i | y)$$\n",
        "\n",
        "Finally, our classifier model is given as follows:\n",
        "\n",
        "$$ y = {\\arg \\max}_{\\{k \\in 1,\\cdots,K \\}} P(C_k) \\prod_{i=1}^{n} P(x_i | C_k) $$\n",
        "where $P(C_k)$ is the class probability.\n"
      ]
    },
    {
      "cell_type": "markdown",
      "metadata": {
        "id": "i0qqizJf-PpH"
      },
      "source": [
        "**Note:**\n",
        "The Naive Bayes is easy to implement and fast to predict the class of the test data set. It also performs well in multi-class prediction. However, If categorical variable has a category (in test data set), which was not observed in training data set, then model will assign a 0 (zero) probability and will be unable to make a prediction. This is often known as Zero Frequency. To solve this, we can use the smoothing technique. One of the simplest smoothing techniques is called Laplace estimation.\n"
      ]
    },
    {
      "cell_type": "markdown",
      "metadata": {
        "id": "n0WM9aPo7uKX"
      },
      "source": [
        "## Task Overview\n",
        "\n",
        "This task has been sub divided into two parts.\n",
        "\n",
        "- In Part A, you will compute predictions on a small scale data using Naive Bayes classifier given some input features.\n",
        "- In Part B, you are to go over through the code that implements a Naive Bayes Classifer and relate the diffrent functions to the steps that you took in Part A. (**You are not required to implement anything Part B**)\n"
      ]
    },
    {
      "cell_type": "markdown",
      "metadata": {
        "id": "sdO0pnUrPqZn"
      },
      "source": [
        "## [8 Marks] Part A : Play Cricket\n",
        "\n",
        "**Consider a fictional dataset that describes the weather conditions for a game of cricket. Based on the meteorological conditions, each tuple classifies the weather as appropriate or unfit for playing cricket. Your task is to learn a Nave Bayes model that predicts whether or not it is safe to play cricket given the current weather conditions.**\n"
      ]
    },
    {
      "cell_type": "markdown",
      "metadata": {
        "id": "jlGNkaq1iZei"
      },
      "source": [
        "| Weather | Temperature | Humidity | Windy | Label |\n",
        "| ------- | ----------- | -------- | ----- | ----- |\n",
        "| Clear   | Hot         | High     | No    | No    |\n",
        "| Clear   | Hot         | High     | Yes   | No    |\n",
        "| Cloudy  | Hot         | High     | No    | Yes   |\n",
        "| Raining | Mild        | High     | No    | Yes   |\n",
        "| Raining | Cold        | Normal   | No    | Yes   |\n",
        "| Raining | Cold        | Normal   | Yes   | No    |\n",
        "| Cloudy  | Cold        | Normal   | Yes   | Yes   |\n",
        "| Clear   | Mild        | High     | No    | No    |\n",
        "| Clear   | Cold        | Normal   | No    | Yes   |\n",
        "| Raining | Mild        | Normal   | No    | Yes   |\n",
        "| Clear   | Mild        | Normal   | Yes   | Yes   |\n",
        "| Cloudy  | Mild        | High     | Yes   | Yes   |\n",
        "| Cloudy  | Hot         | Normal   | No    | Yes   |\n",
        "| Raining | Mild        | High     | Yes   | No    |\n"
      ]
    },
    {
      "cell_type": "markdown",
      "metadata": {
        "id": "hOLvLqFUn49O"
      },
      "source": [
        "### [4 Marks] Part I : Probability $(X \\mid y)$\n",
        "\n",
        "**Based on the dataset, fill in the missing values in the table below.**\n"
      ]
    },
    {
      "cell_type": "markdown",
      "metadata": {
        "id": "cC8uMX39ogts"
      },
      "source": [
        "| Label       | Yes                 | No                 |\n",
        "| ----------- | ------------------- | ------------------ |\n",
        "| Weather     | P(Weather\\|Yes)     | P(Weather\\|No)     |\n",
        "| Clear       | 2/9                 | ?                  |\n",
        "| Cloudy      | 4/9                 | 0                  |\n",
        "| Raining     | ?                   | 2/5                |\n",
        "| Temperature | P(Temperature\\|Yes) | P(Temperature\\|No) |\n",
        "| Hot         | 2/9                 | 2/5                |\n",
        "| Mild        | ?                   | ?                  |\n",
        "| Cold        | 3/9                 | ?                  |\n",
        "| Humidity    | P(Humidity\\|Yes)    | P(Humidity\\|No)    |\n",
        "| High        | 3/9                 | 4/5                |\n",
        "| Normal      | ?                   | 1/5                |\n",
        "| Windy       | P(Windy\\|Yes)       | P(Windy\\|No)       |\n",
        "| Yes         | ?                   | 3/5                |\n",
        "| No          | ?                   | 2/5                |\n"
      ]
    },
    {
      "cell_type": "markdown",
      "metadata": {
        "id": "TDLr6h_Goypm"
      },
      "source": [
        "### [4 Marks] Part II : Compute Predictions\n",
        "\n",
        "**Based on the given weather conditions and Part I, compute the prediction. (No marks given to answers without explanation)**\n"
      ]
    },
    {
      "cell_type": "markdown",
      "metadata": {
        "id": "WmFx6yV-qHMM"
      },
      "source": [
        "| Weather | Temperature | Humiditiy | Windy | Label |\n",
        "| ------- | ----------- | --------- | ----- | ----- |\n",
        "| Raining | Hot         | High      | No    | ?     |\n"
      ]
    },
    {
      "cell_type": "markdown",
      "metadata": {
        "id": "Te7qZXCaqdj8"
      },
      "source": [
        "Explanation.\n"
      ]
    },
    {
      "cell_type": "markdown",
      "metadata": {
        "id": "njZh2fLeqKbJ"
      },
      "source": [
        "| Weather | Temperature | Humidity | Windy | Label |\n",
        "| ------- | ----------- | -------- | ----- | ----- |\n",
        "| Cloudy  | Cold        | Normal   | Yes   | ?     |\n"
      ]
    },
    {
      "cell_type": "markdown",
      "metadata": {
        "id": "hH6X1j-bqlSx"
      },
      "source": [
        "Explanation.\n"
      ]
    },
    {
      "cell_type": "markdown",
      "metadata": {
        "id": "f0GJJ9WaQotR"
      },
      "source": [
        "### [2 Marks] Part B : Text Classification\n",
        "\n",
        "**Part B is the continuation of the work you completed in Part A. In this section, we have provided all the required implementation of a classification model.**\n",
        "\n",
        "**First the functions for loading and preprocessing data are implemented.\n",
        "Then the functions to learn model and to categorize are also implemented.  \n",
        "The dataset that you will be using TextClassification_Data.csv which has been already loaded for you.**\n",
        "\n",
        "**Your task is to read and try to understand the following process. You will have provide a 30 second explaination in viva.**\n"
      ]
    },
    {
      "cell_type": "code",
      "execution_count": null,
      "metadata": {
        "id": "VV2AuqKihT7T"
      },
      "outputs": [],
      "source": [
        "# Load Dataset\n",
        "def load_file(fileName):\n",
        "    \"\"\"\n",
        "    fileName: The name of the file which needs to be loaded.\n",
        "    Load csv file into a pandas dataframe.\n",
        "    \"\"\"\n",
        "    dataset = pd.read_table(fileName, header=0, sep=\",\", encoding=\"unicode_escape\")\n",
        "    return dataset\n",
        "\n",
        "\n",
        "# Preprocess Data\n",
        "def preprocess(data):\n",
        "    \"\"\"\n",
        "    data: Dataset which needs to be pre-processed.\n",
        "    Creates the term frequency matrix for the review data set.\n",
        "    \"\"\"\n",
        "    # https://scikit-learn.org/stable/modules/generated/sklearn.feature_extraction.text.CountVectorizer.html (Please see this if you need any help)\n",
        "    count_vectorizer = CountVectorizer()\n",
        "    data = count_vectorizer.fit_transform(data)\n",
        "    return data\n"
      ]
    },
    {
      "cell_type": "code",
      "execution_count": null,
      "metadata": {
        "id": "zq8u1WnEhgY4"
      },
      "outputs": [],
      "source": [
        "# Learn Model\n",
        "def learn_model(data, target):\n",
        "    \"\"\"\n",
        "    data: Feature Vector (Matrix)\n",
        "    target: Training Labels\n",
        "    Returns the trained model which is a tuple consisting of\n",
        "    P(X|y) (Probabilities of each feature given class y)\n",
        "    P(Y) (Probability of each class)\n",
        "    \"\"\"\n",
        "    # Initialize the model\n",
        "    model = None\n",
        "    # Convert the data into a numpy array using the toarray() method\n",
        "    Array = data.toarray()\n",
        "    # Store the dimensions of the array into array_row,array_col\n",
        "    array_row, array_col = Array.shape\n",
        "    # Get a list of all the unique classes from target\n",
        "    Y = list(np.unique(target))\n",
        "    # Initialize X_given_C\n",
        "    # P (X | C) (Probability of features given class y)\n",
        "    X_given_y = np.zeros((len(Y), array_col))\n",
        "    # Initialize the list to store probability of each particular class\n",
        "    # P(C)\n",
        "    Probability = [0] * len(Y)\n",
        "    # Traverse through each class\n",
        "    for index in range(len(Y)):\n",
        "        # Subsetting the rows belonging to a particular class.\n",
        "        temp = Array[target == Y[index]]\n",
        "        # Store the dimensions of Temp Array.\n",
        "        class_row, class_col = temp.shape\n",
        "        X_given_y[index] = np.sum(temp, axis=0)\n",
        "        # Peform Lapalace Estimation by adding 1 so that none of the feature has a probability of zero for a given class.\n",
        "        X_given_y[index] += 1\n",
        "        Sum_Y_given_C = np.sum(X_given_y[index])\n",
        "        # P(X|y) -> Probabilitity of each feature given class Y.\n",
        "        X_given_y[index] = X_given_y[index] / Sum_Y_given_C\n",
        "        # P(y) -> Probability of each Class\n",
        "        Probability[index] = class_row / array_row\n",
        "    # Create a series with Class Labels as the index and the probability as values.\n",
        "    Class_Probability = pd.Series(Probability, Y)\n",
        "    # Create model\n",
        "    model = (X_given_y, Class_Probability)\n",
        "    return model\n"
      ]
    },
    {
      "cell_type": "code",
      "execution_count": null,
      "metadata": {
        "id": "vghFPdhDhjl4"
      },
      "outputs": [],
      "source": [
        "# Compute Prediction\n",
        "def classify(model, testdata):\n",
        "    # Initialize list to store predicted Label.\n",
        "    Predicted_val = []\n",
        "    # Probability of features given class Y.\n",
        "    P_given_C = model[0]\n",
        "    # Probability of each class along with class label.\n",
        "    Class_Probability = model[1]\n",
        "    Classes = Class_Probability.index\n",
        "    # Convert test data to numpy array.\n",
        "    TestArray = testdata.toarray()\n",
        "    # Store the dimension of the TestArray in the variables ArrayRow,ArrayCol\n",
        "    ArrayRow, ArrayCol = TestArray.shape\n",
        "    # Loop through each dataset\n",
        "    for i in range(ArrayRow):\n",
        "        # Initialize Probabilites list with zero to store probability for each class.\n",
        "        Probabilities = [0] * len(Classes)\n",
        "        # Compute the probability for each class given data\n",
        "        for j in range(len(Classes)):\n",
        "            # Extract those features which are present in the dataset instance and multiply their probabilities.\n",
        "            # Probabilities can be extracted from P_given_C\n",
        "            Probabilities[j] = (\n",
        "                Class_Probability[Classes[j]]\n",
        "                * P_given_C[j][TestArray[i].astype(bool)].prod()\n",
        "            )\n",
        "        # Store the computed probabilities in a series\n",
        "        temp_series = pd.Series(Probabilities, Classes)\n",
        "        # Predicted label is the class with the highest probability.\n",
        "        Predicted_val.append(temp_series.idxmax())\n",
        "    # Return list of predicted labels.\n",
        "    return Predicted_val\n"
      ]
    },
    {
      "cell_type": "code",
      "execution_count": null,
      "metadata": {
        "colab": {
          "base_uri": "https://localhost:8080/"
        },
        "id": "k5jIj4p7HQ7I",
        "outputId": "7c2fe765-3e39-4be2-9177-7234f307ddb0"
      },
      "outputs": [
        {
          "name": "stdout",
          "output_type": "stream",
          "text": [
            "Loading data.....\n",
            "preprocessing data.....\n",
            "Train & Test split....\n",
            "Learning model.....\n",
            "Classifying test data......\n",
            "Evaluating results.....\n",
            "0.7048271648044693\n"
          ]
        }
      ],
      "source": [
        "# DO NOT EDIT\n",
        "features = [\"SUMMARY\", \"categories\", \"sub_categories\"]\n",
        "# Load Dataset\n",
        "print(\"Loading data.....\")\n",
        "dataset = load_file(\"TextClassification_Data.csv\")\n",
        "data, target = dataset[features[0]].fillna(\" \"), dataset[features[1]]\n",
        "\n",
        "# Pre process Dataset\n",
        "print(\"preprocessing data.....\")\n",
        "word_vectors = preprocess(data)\n",
        "\n",
        "# Split Data into train & test Data\n",
        "print(\"Train & Test split....\")\n",
        "trainingX, testX, trainingY, testY = train_test_split(\n",
        "    word_vectors, target, test_size=0.4, random_state=43\n",
        ")\n",
        "\n",
        "# Train Model\n",
        "print(\"Learning model.....\")\n",
        "# Uncomment the below two lines (Sklearn Implementation of Naive Bayes) to check if your code is performing correctly.\n",
        "# classifier = BernoulliNB()\n",
        "# classifier.fit(trainingX,trainingY)\n",
        "model = learn_model(trainingX, trainingY)\n",
        "\n",
        "# Compute Prediction\n",
        "print(\"Classifying test data......\")\n",
        "# Uncomment the below line to compute predictions using sklearn model and verify your results.\n",
        "# predictedY = classifier.predict(testX)\n",
        "predictedY = classify(model, testX)\n",
        "\n",
        "# Evaluate Results\n",
        "print(\"Evaluating results.....\")\n",
        "print(metrics.accuracy_score(testY, predictedY))\n"
      ]
    },
    {
      "cell_type": "markdown",
      "metadata": {
        "id": "C0FGyWRmWOp6"
      },
      "source": [
        "# **Note: Task 4 is a bonus Question and should only be attempted if all the other tasks have been completed.**\n"
      ]
    },
    {
      "cell_type": "markdown",
      "metadata": {
        "id": "j6spi6oTDHMo"
      },
      "source": [
        "# [0 Marks] Task 4 : Bayesian Updating\n"
      ]
    },
    {
      "cell_type": "markdown",
      "metadata": {
        "id": "3B-TEi1w-fcF"
      },
      "source": [
        "## Bayesian Updating\n",
        "\n",
        "The Bayesian keeps on updating their beliefs based on the events that they see. For example a Bayesian might initially holds the belief that the moon comes out every night with a probability of 1/2. As more nights pass, they see the moon a lot more, and their beliefs start to change becoming closer to reality.\n",
        "\n",
        "This is extremely intuitive. For example, assume that a pharmaceutical company makes a medicine and claims that it is 90% effective. You see it in action and find it failing more times than succeeding. You would update your beliefs appropriately.\n",
        "\n",
        "This question is supposed to simulate the concept of Bayesian updating.\n",
        "\n",
        "$$P(H|D) = \\frac{P(D|H) P(H)}{P(D)}$$\n",
        "\n",
        "$H$ is the hypothesis (our belief about the distribution). $D$ is the data. $P(D)$ can be computed by the total probability rule.\n"
      ]
    },
    {
      "cell_type": "markdown",
      "metadata": {
        "id": "4SeLfn0uWvcr"
      },
      "source": [
        "## Example\n",
        "\n",
        "Shayan, a TA of the course attempts to play a game with you. He says that he has 2 types of coin. One coin is fair. The other is biased (80% of the time it shows up heads and 20% of the time it shows tails)\n",
        "\n",
        "He tells you that he would fairly chose one of these coins (50% probability of choosing each)\n",
        "\n",
        "Imagine that you get a tails. Intuitively, we would believe that now that the coin is likely to be fair\n",
        "\n",
        "$$P(\\text{Fair}\\mid \\text{Tails}) = P(\\text{Tails} \\mid  \\text{Fair}) \\times P(\\text{Fair}) = 0.5\\times 0.5 = 0.25$$\n",
        "$$P(\\text{Biased} \\mid Tails) = P(\\text{Tails} \\mid \\text{Biased}) \\times P(\\text{Biased}) = 0.2\\times 0.5 = 0.1$$\n",
        "\n",
        "Therefore our revised beliefs are that the fair coin occurs with probability\n",
        "$$\\frac{0.25}{0.35}= \\frac{5}{7}$$\n",
        "and the biased coin with probability\n",
        "$$\\frac{0.1}{0.35}= \\frac{2}{7}$$\n",
        "\n",
        "This reflects reality more.\n"
      ]
    },
    {
      "cell_type": "markdown",
      "metadata": {
        "id": "1tH8u-tA-3il"
      },
      "source": [
        "## Task Overview\n",
        "\n",
        "**Your goal is to implement this same situation in code. You are given the functions $\\texttt{biased\\_coin}$ and $\\texttt{fair\\_coin}$ to simulate the coin Shayan uses. You are also given a function $\\texttt{normalize}$ which takes a dictionary of probability and normalizes them such that the probability sums up to 1.You start of with a dictionary containing your current beliefs, initialized to 0.5 each reflecting the statement of Shayan. Based on the coin flips, update them and at the end, output your final beliefs.**\n"
      ]
    },
    {
      "cell_type": "code",
      "execution_count": null,
      "metadata": {
        "id": "FKrrdSbaBOkb"
      },
      "outputs": [],
      "source": [
        "# DO NOT EDIT\n",
        "def biased_coin():\n",
        "    return np.random.choice(2, p=[0.2, 0.8])\n",
        "\n",
        "\n",
        "def fair_coin():\n",
        "    return np.random.choice(2, p=[0.5, 0.5])\n"
      ]
    },
    {
      "cell_type": "code",
      "execution_count": null,
      "metadata": {
        "id": "G9QiEWM2S0Pp"
      },
      "outputs": [],
      "source": [
        "# DO NOT EDIT\n",
        "def normalise(current_beliefs):\n",
        "    total = sum(current_beliefs.values())\n",
        "    for i in current_beliefs:\n",
        "        current_beliefs[i] /= total\n"
      ]
    },
    {
      "cell_type": "code",
      "execution_count": null,
      "metadata": {
        "colab": {
          "base_uri": "https://localhost:8080/"
        },
        "id": "fezE6bNJS130",
        "outputId": "b805ce83-4c7f-4cca-97e7-3a93609ee9b5"
      },
      "outputs": [
        {
          "name": "stdout",
          "output_type": "stream",
          "text": [
            "{'fair': 0.6995468959763333, 'biased': 0.30045310402366665}\n"
          ]
        }
      ],
      "source": [
        "beliefs = {\"fair\":0.5,\"biased\":0.5}\n",
        "# Toss n times\n",
        "n = 10\n",
        "coin_tosses = [fair_coin() for _ in range(n)]\n",
        "current_beliefs = {\"fair\":0.5,\"biased\":0.5}\n",
        "\n",
        "for flip in coin_tosses:\n",
        "  # TODO: Implement what needs to be done for each coin flip\n",
        "print(current_beliefs)"
      ]
    }
  ],
  "metadata": {
    "colab": {
      "collapsed_sections": [],
      "name": "Project_2_Student_Version (1).ipynb",
      "provenance": []
    },
    "kernelspec": {
      "display_name": "Python 3",
      "name": "python3"
    },
    "language_info": {
      "codemirror_mode": {
        "name": "ipython",
        "version": 3
      },
      "file_extension": ".py",
      "mimetype": "text/x-python",
      "name": "python",
      "nbconvert_exporter": "python",
      "pygments_lexer": "ipython3",
      "version": "3.9.6"
    }
  },
  "nbformat": 4,
  "nbformat_minor": 0
}
