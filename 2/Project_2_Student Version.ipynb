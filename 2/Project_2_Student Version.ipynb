{
  "cells": [
    {
      "cell_type": "markdown",
      "metadata": {
        "id": "Y2WOgzp6c9kr"
      },
      "source": [
        "# Setup\n"
      ]
    },
    {
      "cell_type": "code",
      "execution_count": 1,
      "metadata": {
        "id": "a2EMpr1aY6VW"
      },
      "outputs": [],
      "source": [
        "# Importing the required modules\n",
        "import numpy as np\n",
        "import pandas as pd\n",
        "import matplotlib.pyplot as plt\n",
        "import scipy.stats as stats\n",
        "\n",
        "# Libraries Imported for Verifying your results in Task 02\n",
        "from sklearn.feature_extraction.text import CountVectorizer\n",
        "from sklearn.feature_extraction.text import TfidfTransformer\n",
        "from sklearn.model_selection import train_test_split\n",
        "from sklearn.naive_bayes import BernoulliNB\n",
        "from sklearn import metrics\n"
      ]
    },
    {
      "cell_type": "code",
      "execution_count": 3,
      "metadata": {
        "colab": {
          "base_uri": "https://localhost:8080/"
        },
        "id": "XmB5ZC_iJVJw",
        "outputId": "33151404-0a38-49a9-89da-c06d12ccd053"
      },
      "outputs": [],
      "source": [
        "# Downloading CSV Dataset for Naive Bayes\n",
        "# !gdown  https://drive.google.com/uc?id=134-Blu7RRQ8s-MN4kaoih9Gx2TwObxIo\n"
      ]
    },
    {
      "cell_type": "markdown",
      "metadata": {
        "id": "2Ur0TanwrLok"
      },
      "source": [
        "# [40 Marks] Task 1: A drunkard's walk\n"
      ]
    },
    {
      "cell_type": "markdown",
      "metadata": {
        "id": "3UU1nukstphi"
      },
      "source": [
        "## Random Walk\n",
        "\n",
        "A random walk is a mathematical object, known as a stochastic or random process, that describes a path that consists of a succession of random steps on some mathematical space such as the integers. Mathematical modelling of the movement of animals, micro-organisms and cells is of great relevance in the fields of biology, ecology and medicine.\n"
      ]
    },
    {
      "cell_type": "markdown",
      "metadata": {
        "id": "FWOuUYiVtqKj"
      },
      "source": [
        "## Simulating the Drunkard\n",
        "\n",
        "A very simple random walk can be simulated by imagining an object starting at $x=0$ on a number line. The object is going to take an $n$ number of steps of one unit each, where each step can be right or left with probabilities $p$ and $1-p$ respectively.\n",
        "\n",
        "Intuitively one can judge that if $p=0.5$, then the object will return to its starting position often, or at least close to it. We are going to confirm this using simulation.\n"
      ]
    },
    {
      "cell_type": "markdown",
      "metadata": {
        "id": "d3M7kLyMtqvi"
      },
      "source": [
        "## Experiment\n",
        "\n",
        "The number of steps to the left or right as determined by the probabilities ($p$ to go right, $1-p$ to move left) is given by $n$. This procedure will be repeated $\\texttt{SIM\\_TIMES}$ times, and you can use the data to calculate the expected position of the object. Even if we use $p=0.5$, the predicted value will not always be zero because this is a simulation.\n"
      ]
    },
    {
      "cell_type": "markdown",
      "metadata": {
        "id": "0ihGt0Rpuqcq"
      },
      "source": [
        "## Task Overview\n",
        "\n",
        "In this Task, you will be simulating a Drunkard's Walk which has been split into three parts.\n",
        "\n",
        "- In Part A, you are required to express the end position of the object as a Linear Function\n",
        "- In Part B, you are required to simulate the Experiment based on the Linear Function you derived in Part A.\n",
        "- In Part C, you are required to interpret the results when the experiment is repeated for multiple values of n.\n"
      ]
    },
    {
      "cell_type": "markdown",
      "metadata": {
        "id": "uxz5YApam4pI"
      },
      "source": [
        "## [10 Marks] Part A : Linear Function\n",
        "\n",
        "**Express the ending position in terms of a linear function using binomial random variable $X$ with parameters $n,p$ and the variable $n$.**\n"
      ]
    },
    {
      "cell_type": "markdown",
      "metadata": {
        "id": "4WsWdBrmPKKu"
      },
      "source": [
        "**Answer:**\n",
        "\n",
        "Let suppose $Y$ is the final position of the random walk that started from $x_0$.\n",
        "$$Y=x_0+X$$\n",
        "$$Y=x_0+\\sum_{i=1}^{n}X_{i}$$\n",
        "$X_1$, $X_2$, $\\cdots$, $X_n$ are discrete independent random variables that are defined as,\n",
        "$$X_i=\\begin{cases}1&\\text{if }i^{th}\\text{ step is in right direction}\\\\-1&\\text{if }i^{th}\\text{ step is in left direction}\\end{cases}\\qquad \\qquad \\forall i\\in\\{1,2,3,\\cdots,n\\}$$\n",
        "with the probablity mass function defined as,\n",
        "$$P(X=x)=\\begin{cases}p&x=1\\\\1-p&x=-1\\end{cases}$$\n"
      ]
    },
    {
      "cell_type": "markdown",
      "metadata": {
        "id": "eEf6x1_MG6ZT"
      },
      "source": [
        "## [20 Marks] Part B : Random Walk\n",
        "\n",
        "**Complete the function $\\texttt{random\\_walk}$ which simulates a binomial random variable with parameters $(n,p)$ $\\texttt{SIM\\_TIMES}$ and computes the expected value of the random variable (using simulation data) and plots the histogram of the distribution of simulation results.**\n",
        "\n",
        "**Run this function for $n=100,p=0.5,\\texttt{SIM\\_TIMES}=100,000$ and another set of values of your choice.**\n"
      ]
    },
    {
      "cell_type": "code",
      "execution_count": 2,
      "metadata": {
        "colab": {
          "base_uri": "https://localhost:8080/",
          "height": 282
        },
        "id": "amhWkgPkLkDe",
        "outputId": "96208b72-0f39-46e2-ab00-9e6ea2f95881"
      },
      "outputs": [
        {
          "data": {
            "text/plain": [
              "799.69"
            ]
          },
          "execution_count": 2,
          "metadata": {},
          "output_type": "execute_result"
        },
        {
          "data": {
            "image/png": "[encoded data removed]",
            "text/plain": [
              "<Figure size 432x288 with 1 Axes>"
            ]
          },
          "metadata": {
            "needs_background": "light"
          },
          "output_type": "display_data"
        }
      ],
      "source": [
        "def random_walk(n, p, SIM_TIMES):\n",
        "    # TODO: Complete the function\n",
        "    # compute the binomial random variable using the given parameters and the above defined function\n",
        "    walk = {i: 0 for i in range(-n, n + 1)}\n",
        "    x0 = 0\n",
        "    mean = 0\n",
        "    while SIM_TIMES:\n",
        "        y = x0\n",
        "        itteration = 0\n",
        "        while itteration < n:\n",
        "            itteration += 1\n",
        "            y += np.random.choice([1, -1], p=[p, 1 - p])\n",
        "        walk[y] = walk.get(y) + 1\n",
        "        mean += y\n",
        "        SIM_TIMES -= 1\n",
        "\n",
        "    # draw the histograms\n",
        "    plt.bar(x=walk.keys(), height=walk.values())\n",
        "    plt.plot()\n",
        "\n",
        "    # return the mean\n",
        "    return mean / n\n",
        "\n",
        "\n",
        "random_walk(1000, 0.5, 1000)\n",
        "random_walk(1000, 0.9, 1000)\n"
      ]
    },
    {
      "cell_type": "markdown",
      "metadata": {
        "id": "EJhidbEsG9U6"
      },
      "source": [
        "## [10 Marks] Part C : Result Interpretation\n",
        "\n",
        "**Complete the function $\\texttt{part\\_3}$ such that given $p,\\texttt{SIM\\_TIMES}$ it computes $$\\frac{2n}{\\text{Expected Distance from Origin}}$$ for $n=1000,2000,3000,\\dots,100,000$\n",
        "and draw a _line chart_ of the obtained values.**\n",
        "\n",
        "**Then test the function on $p=0.5,\\texttt{SIM\\_TIMES} =10,000$ and write down anything interesting you notice about the graph.**\n"
      ]
    },
    {
      "cell_type": "code",
      "execution_count": 3,
      "metadata": {
        "colab": {
          "base_uri": "https://localhost:8080/",
          "height": 281
        },
        "id": "g9mll8LJPGfB",
        "outputId": "bb00fc96-a269-40f1-c511-39c253eeb83f"
      },
      "outputs": [
        {
          "name": "stdout",
          "output_type": "stream",
          "text": [
            "1000 2000 3000 4000 5000 6000 7000 8000 9000 10000 11000 12000 13000 14000 "
          ]
        },
        {
          "ename": "KeyboardInterrupt",
          "evalue": "",
          "output_type": "error",
          "traceback": [
            "\u001b[1;31m---------------------------------------------------------------------------\u001b[0m",
            "\u001b[1;31mKeyboardInterrupt\u001b[0m                         Traceback (most recent call last)",
            "\u001b[1;32m~\\AppData\\Local\\Temp\\ipykernel_21076\\3239995875.py\u001b[0m in \u001b[0;36m<module>\u001b[1;34m\u001b[0m\n\u001b[0;32m     17\u001b[0m \u001b[1;33m\u001b[0m\u001b[0m\n\u001b[0;32m     18\u001b[0m \u001b[1;33m\u001b[0m\u001b[0m\n\u001b[1;32m---> 19\u001b[1;33m \u001b[0mpart_3\u001b[0m\u001b[1;33m(\u001b[0m\u001b[1;36m0.5\u001b[0m\u001b[1;33m,\u001b[0m \u001b[1;36m1\u001b[0m\u001b[1;33m)\u001b[0m\u001b[1;33m\u001b[0m\u001b[1;33m\u001b[0m\u001b[0m\n\u001b[0m",
            "\u001b[1;32m~\\AppData\\Local\\Temp\\ipykernel_21076\\3239995875.py\u001b[0m in \u001b[0;36mpart_3\u001b[1;34m(p, SIM_TIMES)\u001b[0m\n\u001b[0;32m      6\u001b[0m         \u001b[0mX\u001b[0m \u001b[1;33m=\u001b[0m \u001b[1;33m[\u001b[0m\u001b[1;33m]\u001b[0m\u001b[1;33m\u001b[0m\u001b[1;33m\u001b[0m\u001b[0m\n\u001b[0;32m      7\u001b[0m         \u001b[1;32mwhile\u001b[0m \u001b[0mn\u001b[0m \u001b[1;33m<=\u001b[0m \u001b[1;36m100000\u001b[0m\u001b[1;33m:\u001b[0m\u001b[1;33m\u001b[0m\u001b[1;33m\u001b[0m\u001b[0m\n\u001b[1;32m----> 8\u001b[1;33m             \u001b[0mmu\u001b[0m \u001b[1;33m=\u001b[0m \u001b[0mrandom_walk\u001b[0m\u001b[1;33m(\u001b[0m\u001b[0mn\u001b[0m\u001b[1;33m,\u001b[0m \u001b[0mp\u001b[0m\u001b[1;33m,\u001b[0m \u001b[1;36m10\u001b[0m\u001b[1;33m)\u001b[0m\u001b[1;33m\u001b[0m\u001b[1;33m\u001b[0m\u001b[0m\n\u001b[0m\u001b[0;32m      9\u001b[0m             \u001b[0mX\u001b[0m\u001b[1;33m.\u001b[0m\u001b[0mappend\u001b[0m\u001b[1;33m(\u001b[0m\u001b[0mn\u001b[0m\u001b[1;33m)\u001b[0m\u001b[1;33m\u001b[0m\u001b[1;33m\u001b[0m\u001b[0m\n\u001b[0;32m     10\u001b[0m             \u001b[0mY\u001b[0m\u001b[1;33m.\u001b[0m\u001b[0mappend\u001b[0m\u001b[1;33m(\u001b[0m\u001b[1;36m2\u001b[0m \u001b[1;33m*\u001b[0m \u001b[0mn\u001b[0m \u001b[1;33m/\u001b[0m \u001b[0mmu\u001b[0m\u001b[1;33m)\u001b[0m\u001b[1;33m\u001b[0m\u001b[1;33m\u001b[0m\u001b[0m\n",
            "\u001b[1;32m~\\AppData\\Local\\Temp\\ipykernel_21076\\3493687116.py\u001b[0m in \u001b[0;36mrandom_walk\u001b[1;34m(n, p, SIM_TIMES)\u001b[0m\n\u001b[0;32m     16\u001b[0m \u001b[1;33m\u001b[0m\u001b[0m\n\u001b[0;32m     17\u001b[0m     \u001b[1;31m# draw the histograms\u001b[0m\u001b[1;33m\u001b[0m\u001b[1;33m\u001b[0m\u001b[1;33m\u001b[0m\u001b[0m\n\u001b[1;32m---> 18\u001b[1;33m     \u001b[0mplt\u001b[0m\u001b[1;33m.\u001b[0m\u001b[0mbar\u001b[0m\u001b[1;33m(\u001b[0m\u001b[0mx\u001b[0m\u001b[1;33m=\u001b[0m\u001b[0mwalk\u001b[0m\u001b[1;33m.\u001b[0m\u001b[0mkeys\u001b[0m\u001b[1;33m(\u001b[0m\u001b[1;33m)\u001b[0m\u001b[1;33m,\u001b[0m \u001b[0mheight\u001b[0m\u001b[1;33m=\u001b[0m\u001b[0mwalk\u001b[0m\u001b[1;33m.\u001b[0m\u001b[0mvalues\u001b[0m\u001b[1;33m(\u001b[0m\u001b[1;33m)\u001b[0m\u001b[1;33m)\u001b[0m\u001b[1;33m\u001b[0m\u001b[1;33m\u001b[0m\u001b[0m\n\u001b[0m\u001b[0;32m     19\u001b[0m     \u001b[0mplt\u001b[0m\u001b[1;33m.\u001b[0m\u001b[0mplot\u001b[0m\u001b[1;33m(\u001b[0m\u001b[1;33m)\u001b[0m\u001b[1;33m\u001b[0m\u001b[1;33m\u001b[0m\u001b[0m\n\u001b[0;32m     20\u001b[0m \u001b[1;33m\u001b[0m\u001b[0m\n",
            "\u001b[1;32m~\\AppData\\Local\\Programs\\Python\\Python39\\lib\\site-packages\\matplotlib\\pyplot.py\u001b[0m in \u001b[0;36mbar\u001b[1;34m(x, height, width, bottom, align, data, **kwargs)\u001b[0m\n\u001b[0;32m   2780\u001b[0m \u001b[1;33m@\u001b[0m\u001b[0m_copy_docstring_and_deprecators\u001b[0m\u001b[1;33m(\u001b[0m\u001b[0mAxes\u001b[0m\u001b[1;33m.\u001b[0m\u001b[0mbar\u001b[0m\u001b[1;33m)\u001b[0m\u001b[1;33m\u001b[0m\u001b[1;33m\u001b[0m\u001b[0m\n\u001b[0;32m   2781\u001b[0m \u001b[1;32mdef\u001b[0m \u001b[0mbar\u001b[0m\u001b[1;33m(\u001b[0m\u001b[0mx\u001b[0m\u001b[1;33m,\u001b[0m \u001b[0mheight\u001b[0m\u001b[1;33m,\u001b[0m \u001b[0mwidth\u001b[0m\u001b[1;33m=\u001b[0m\u001b[1;36m0.8\u001b[0m\u001b[1;33m,\u001b[0m \u001b[0mbottom\u001b[0m\u001b[1;33m=\u001b[0m\u001b[1;32mNone\u001b[0m\u001b[1;33m,\u001b[0m \u001b[1;33m*\u001b[0m\u001b[1;33m,\u001b[0m \u001b[0malign\u001b[0m\u001b[1;33m=\u001b[0m\u001b[1;34m\"center\"\u001b[0m\u001b[1;33m,\u001b[0m \u001b[0mdata\u001b[0m\u001b[1;33m=\u001b[0m\u001b[1;32mNone\u001b[0m\u001b[1;33m,\u001b[0m \u001b[1;33m**\u001b[0m\u001b[0mkwargs\u001b[0m\u001b[1;33m)\u001b[0m\u001b[1;33m:\u001b[0m\u001b[1;33m\u001b[0m\u001b[1;33m\u001b[0m\u001b[0m\n\u001b[1;32m-> 2782\u001b[1;33m     return gca().bar(\n\u001b[0m\u001b[0;32m   2783\u001b[0m         \u001b[0mx\u001b[0m\u001b[1;33m,\u001b[0m\u001b[1;33m\u001b[0m\u001b[1;33m\u001b[0m\u001b[0m\n\u001b[0;32m   2784\u001b[0m         \u001b[0mheight\u001b[0m\u001b[1;33m,\u001b[0m\u001b[1;33m\u001b[0m\u001b[1;33m\u001b[0m\u001b[0m\n",
            "\u001b[1;32m~\\AppData\\Local\\Programs\\Python\\Python39\\lib\\site-packages\\matplotlib\\__init__.py\u001b[0m in \u001b[0;36minner\u001b[1;34m(ax, data, *args, **kwargs)\u001b[0m\n\u001b[0;32m   1359\u001b[0m     \u001b[1;32mdef\u001b[0m \u001b[0minner\u001b[0m\u001b[1;33m(\u001b[0m\u001b[0max\u001b[0m\u001b[1;33m,\u001b[0m \u001b[1;33m*\u001b[0m\u001b[0margs\u001b[0m\u001b[1;33m,\u001b[0m \u001b[0mdata\u001b[0m\u001b[1;33m=\u001b[0m\u001b[1;32mNone\u001b[0m\u001b[1;33m,\u001b[0m \u001b[1;33m**\u001b[0m\u001b[0mkwargs\u001b[0m\u001b[1;33m)\u001b[0m\u001b[1;33m:\u001b[0m\u001b[1;33m\u001b[0m\u001b[1;33m\u001b[0m\u001b[0m\n\u001b[0;32m   1360\u001b[0m         \u001b[1;32mif\u001b[0m \u001b[0mdata\u001b[0m \u001b[1;32mis\u001b[0m \u001b[1;32mNone\u001b[0m\u001b[1;33m:\u001b[0m\u001b[1;33m\u001b[0m\u001b[1;33m\u001b[0m\u001b[0m\n\u001b[1;32m-> 1361\u001b[1;33m             \u001b[1;32mreturn\u001b[0m \u001b[0mfunc\u001b[0m\u001b[1;33m(\u001b[0m\u001b[0max\u001b[0m\u001b[1;33m,\u001b[0m \u001b[1;33m*\u001b[0m\u001b[0mmap\u001b[0m\u001b[1;33m(\u001b[0m\u001b[0msanitize_sequence\u001b[0m\u001b[1;33m,\u001b[0m \u001b[0margs\u001b[0m\u001b[1;33m)\u001b[0m\u001b[1;33m,\u001b[0m \u001b[1;33m**\u001b[0m\u001b[0mkwargs\u001b[0m\u001b[1;33m)\u001b[0m\u001b[1;33m\u001b[0m\u001b[1;33m\u001b[0m\u001b[0m\n\u001b[0m\u001b[0;32m   1362\u001b[0m \u001b[1;33m\u001b[0m\u001b[0m\n\u001b[0;32m   1363\u001b[0m         \u001b[0mbound\u001b[0m \u001b[1;33m=\u001b[0m \u001b[0mnew_sig\u001b[0m\u001b[1;33m.\u001b[0m\u001b[0mbind\u001b[0m\u001b[1;33m(\u001b[0m\u001b[0max\u001b[0m\u001b[1;33m,\u001b[0m \u001b[1;33m*\u001b[0m\u001b[0margs\u001b[0m\u001b[1;33m,\u001b[0m \u001b[1;33m**\u001b[0m\u001b[0mkwargs\u001b[0m\u001b[1;33m)\u001b[0m\u001b[1;33m\u001b[0m\u001b[1;33m\u001b[0m\u001b[0m\n",
            "\u001b[1;32m~\\AppData\\Local\\Programs\\Python\\Python39\\lib\\site-packages\\matplotlib\\axes\\_axes.py\u001b[0m in \u001b[0;36mbar\u001b[1;34m(self, x, height, width, bottom, align, **kwargs)\u001b[0m\n\u001b[0;32m   2369\u001b[0m             \u001b[1;32melif\u001b[0m \u001b[0morientation\u001b[0m \u001b[1;33m==\u001b[0m \u001b[1;34m'horizontal'\u001b[0m\u001b[1;33m:\u001b[0m\u001b[1;33m\u001b[0m\u001b[1;33m\u001b[0m\u001b[0m\n\u001b[0;32m   2370\u001b[0m                 \u001b[0mr\u001b[0m\u001b[1;33m.\u001b[0m\u001b[0msticky_edges\u001b[0m\u001b[1;33m.\u001b[0m\u001b[0mx\u001b[0m\u001b[1;33m.\u001b[0m\u001b[0mappend\u001b[0m\u001b[1;33m(\u001b[0m\u001b[0ml\u001b[0m\u001b[1;33m)\u001b[0m\u001b[1;33m\u001b[0m\u001b[1;33m\u001b[0m\u001b[0m\n\u001b[1;32m-> 2371\u001b[1;33m             \u001b[0mself\u001b[0m\u001b[1;33m.\u001b[0m\u001b[0madd_patch\u001b[0m\u001b[1;33m(\u001b[0m\u001b[0mr\u001b[0m\u001b[1;33m)\u001b[0m\u001b[1;33m\u001b[0m\u001b[1;33m\u001b[0m\u001b[0m\n\u001b[0m\u001b[0;32m   2372\u001b[0m             \u001b[0mpatches\u001b[0m\u001b[1;33m.\u001b[0m\u001b[0mappend\u001b[0m\u001b[1;33m(\u001b[0m\u001b[0mr\u001b[0m\u001b[1;33m)\u001b[0m\u001b[1;33m\u001b[0m\u001b[1;33m\u001b[0m\u001b[0m\n\u001b[0;32m   2373\u001b[0m \u001b[1;33m\u001b[0m\u001b[0m\n",
            "\u001b[1;32m~\\AppData\\Local\\Programs\\Python\\Python39\\lib\\site-packages\\matplotlib\\axes\\_base.py\u001b[0m in \u001b[0;36madd_patch\u001b[1;34m(self, p)\u001b[0m\n\u001b[0;32m   2167\u001b[0m         \u001b[0mself\u001b[0m\u001b[1;33m.\u001b[0m\u001b[0m_set_artist_props\u001b[0m\u001b[1;33m(\u001b[0m\u001b[0mp\u001b[0m\u001b[1;33m)\u001b[0m\u001b[1;33m\u001b[0m\u001b[1;33m\u001b[0m\u001b[0m\n\u001b[0;32m   2168\u001b[0m         \u001b[1;32mif\u001b[0m \u001b[0mp\u001b[0m\u001b[1;33m.\u001b[0m\u001b[0mget_clip_path\u001b[0m\u001b[1;33m(\u001b[0m\u001b[1;33m)\u001b[0m \u001b[1;32mis\u001b[0m \u001b[1;32mNone\u001b[0m\u001b[1;33m:\u001b[0m\u001b[1;33m\u001b[0m\u001b[1;33m\u001b[0m\u001b[0m\n\u001b[1;32m-> 2169\u001b[1;33m             \u001b[0mp\u001b[0m\u001b[1;33m.\u001b[0m\u001b[0mset_clip_path\u001b[0m\u001b[1;33m(\u001b[0m\u001b[0mself\u001b[0m\u001b[1;33m.\u001b[0m\u001b[0mpatch\u001b[0m\u001b[1;33m)\u001b[0m\u001b[1;33m\u001b[0m\u001b[1;33m\u001b[0m\u001b[0m\n\u001b[0m\u001b[0;32m   2170\u001b[0m         \u001b[0mself\u001b[0m\u001b[1;33m.\u001b[0m\u001b[0m_update_patch_limits\u001b[0m\u001b[1;33m(\u001b[0m\u001b[0mp\u001b[0m\u001b[1;33m)\u001b[0m\u001b[1;33m\u001b[0m\u001b[1;33m\u001b[0m\u001b[0m\n\u001b[0;32m   2171\u001b[0m         \u001b[0mself\u001b[0m\u001b[1;33m.\u001b[0m\u001b[0mpatches\u001b[0m\u001b[1;33m.\u001b[0m\u001b[0mappend\u001b[0m\u001b[1;33m(\u001b[0m\u001b[0mp\u001b[0m\u001b[1;33m)\u001b[0m\u001b[1;33m\u001b[0m\u001b[1;33m\u001b[0m\u001b[0m\n",
            "\u001b[1;32m~\\AppData\\Local\\Programs\\Python\\Python39\\lib\\site-packages\\matplotlib\\artist.py\u001b[0m in \u001b[0;36mset_clip_path\u001b[1;34m(self, path, transform)\u001b[0m\n\u001b[0;32m    778\u001b[0m             \u001b[1;32mif\u001b[0m \u001b[0misinstance\u001b[0m\u001b[1;33m(\u001b[0m\u001b[0mpath\u001b[0m\u001b[1;33m,\u001b[0m \u001b[0mRectangle\u001b[0m\u001b[1;33m)\u001b[0m\u001b[1;33m:\u001b[0m\u001b[1;33m\u001b[0m\u001b[1;33m\u001b[0m\u001b[0m\n\u001b[0;32m    779\u001b[0m                 self.clipbox = TransformedBbox(Bbox.unit(),\n\u001b[1;32m--> 780\u001b[1;33m                                                path.get_transform())\n\u001b[0m\u001b[0;32m    781\u001b[0m                 \u001b[0mself\u001b[0m\u001b[1;33m.\u001b[0m\u001b[0m_clippath\u001b[0m \u001b[1;33m=\u001b[0m \u001b[1;32mNone\u001b[0m\u001b[1;33m\u001b[0m\u001b[1;33m\u001b[0m\u001b[0m\n\u001b[0;32m    782\u001b[0m                 \u001b[0msuccess\u001b[0m \u001b[1;33m=\u001b[0m \u001b[1;32mTrue\u001b[0m\u001b[1;33m\u001b[0m\u001b[1;33m\u001b[0m\u001b[0m\n",
            "\u001b[1;32m~\\AppData\\Local\\Programs\\Python\\Python39\\lib\\site-packages\\matplotlib\\patches.py\u001b[0m in \u001b[0;36mget_transform\u001b[1;34m(self)\u001b[0m\n\u001b[0;32m    271\u001b[0m     \u001b[1;32mdef\u001b[0m \u001b[0mget_transform\u001b[0m\u001b[1;33m(\u001b[0m\u001b[0mself\u001b[0m\u001b[1;33m)\u001b[0m\u001b[1;33m:\u001b[0m\u001b[1;33m\u001b[0m\u001b[1;33m\u001b[0m\u001b[0m\n\u001b[0;32m    272\u001b[0m         \u001b[1;34m\"\"\"Return the `~.transforms.Transform` applied to the `Patch`.\"\"\"\u001b[0m\u001b[1;33m\u001b[0m\u001b[1;33m\u001b[0m\u001b[0m\n\u001b[1;32m--> 273\u001b[1;33m         \u001b[1;32mreturn\u001b[0m \u001b[0mself\u001b[0m\u001b[1;33m.\u001b[0m\u001b[0mget_patch_transform\u001b[0m\u001b[1;33m(\u001b[0m\u001b[1;33m)\u001b[0m \u001b[1;33m+\u001b[0m \u001b[0martist\u001b[0m\u001b[1;33m.\u001b[0m\u001b[0mArtist\u001b[0m\u001b[1;33m.\u001b[0m\u001b[0mget_transform\u001b[0m\u001b[1;33m(\u001b[0m\u001b[0mself\u001b[0m\u001b[1;33m)\u001b[0m\u001b[1;33m\u001b[0m\u001b[1;33m\u001b[0m\u001b[0m\n\u001b[0m\u001b[0;32m    274\u001b[0m \u001b[1;33m\u001b[0m\u001b[0m\n\u001b[0;32m    275\u001b[0m     \u001b[1;32mdef\u001b[0m \u001b[0mget_data_transform\u001b[0m\u001b[1;33m(\u001b[0m\u001b[0mself\u001b[0m\u001b[1;33m)\u001b[0m\u001b[1;33m:\u001b[0m\u001b[1;33m\u001b[0m\u001b[1;33m\u001b[0m\u001b[0m\n",
            "\u001b[1;32m~\\AppData\\Local\\Programs\\Python\\Python39\\lib\\site-packages\\matplotlib\\patches.py\u001b[0m in \u001b[0;36mget_patch_transform\u001b[1;34m(self)\u001b[0m\n\u001b[0;32m    777\u001b[0m         \u001b[0mbbox\u001b[0m \u001b[1;33m=\u001b[0m \u001b[0mself\u001b[0m\u001b[1;33m.\u001b[0m\u001b[0mget_bbox\u001b[0m\u001b[1;33m(\u001b[0m\u001b[1;33m)\u001b[0m\u001b[1;33m\u001b[0m\u001b[1;33m\u001b[0m\u001b[0m\n\u001b[0;32m    778\u001b[0m         return (transforms.BboxTransformTo(bbox)\n\u001b[1;32m--> 779\u001b[1;33m                 + transforms.Affine2D().rotate_deg_around(\n\u001b[0m\u001b[0;32m    780\u001b[0m                     bbox.x0, bbox.y0, self.angle))\n\u001b[0;32m    781\u001b[0m \u001b[1;33m\u001b[0m\u001b[0m\n",
            "\u001b[1;32m~\\AppData\\Local\\Programs\\Python\\Python39\\lib\\site-packages\\matplotlib\\transforms.py\u001b[0m in \u001b[0;36mrotate_deg_around\u001b[1;34m(self, x, y, degrees)\u001b[0m\n\u001b[0;32m   2000\u001b[0m         \u001b[1;31m# Cast to float to avoid wraparound issues with uint8's\u001b[0m\u001b[1;33m\u001b[0m\u001b[1;33m\u001b[0m\u001b[1;33m\u001b[0m\u001b[0m\n\u001b[0;32m   2001\u001b[0m         \u001b[0mx\u001b[0m\u001b[1;33m,\u001b[0m \u001b[0my\u001b[0m \u001b[1;33m=\u001b[0m \u001b[0mfloat\u001b[0m\u001b[1;33m(\u001b[0m\u001b[0mx\u001b[0m\u001b[1;33m)\u001b[0m\u001b[1;33m,\u001b[0m \u001b[0mfloat\u001b[0m\u001b[1;33m(\u001b[0m\u001b[0my\u001b[0m\u001b[1;33m)\u001b[0m\u001b[1;33m\u001b[0m\u001b[1;33m\u001b[0m\u001b[0m\n\u001b[1;32m-> 2002\u001b[1;33m         \u001b[1;32mreturn\u001b[0m \u001b[0mself\u001b[0m\u001b[1;33m.\u001b[0m\u001b[0mtranslate\u001b[0m\u001b[1;33m(\u001b[0m\u001b[1;33m-\u001b[0m\u001b[0mx\u001b[0m\u001b[1;33m,\u001b[0m \u001b[1;33m-\u001b[0m\u001b[0my\u001b[0m\u001b[1;33m)\u001b[0m\u001b[1;33m.\u001b[0m\u001b[0mrotate_deg\u001b[0m\u001b[1;33m(\u001b[0m\u001b[0mdegrees\u001b[0m\u001b[1;33m)\u001b[0m\u001b[1;33m.\u001b[0m\u001b[0mtranslate\u001b[0m\u001b[1;33m(\u001b[0m\u001b[0mx\u001b[0m\u001b[1;33m,\u001b[0m \u001b[0my\u001b[0m\u001b[1;33m)\u001b[0m\u001b[1;33m\u001b[0m\u001b[1;33m\u001b[0m\u001b[0m\n\u001b[0m\u001b[0;32m   2003\u001b[0m \u001b[1;33m\u001b[0m\u001b[0m\n\u001b[0;32m   2004\u001b[0m     \u001b[1;32mdef\u001b[0m \u001b[0mtranslate\u001b[0m\u001b[1;33m(\u001b[0m\u001b[0mself\u001b[0m\u001b[1;33m,\u001b[0m \u001b[0mtx\u001b[0m\u001b[1;33m,\u001b[0m \u001b[0mty\u001b[0m\u001b[1;33m)\u001b[0m\u001b[1;33m:\u001b[0m\u001b[1;33m\u001b[0m\u001b[1;33m\u001b[0m\u001b[0m\n",
            "\u001b[1;32m~\\AppData\\Local\\Programs\\Python\\Python39\\lib\\site-packages\\matplotlib\\transforms.py\u001b[0m in \u001b[0;36mrotate_deg\u001b[1;34m(self, degrees)\u001b[0m\n\u001b[0;32m   1978\u001b[0m         \u001b[1;32mand\u001b[0m \u001b[1;33m:\u001b[0m\u001b[0mmeth\u001b[0m\u001b[1;33m:\u001b[0m\u001b[0;31m`\u001b[0m\u001b[0mscale\u001b[0m\u001b[0;31m`\u001b[0m\u001b[1;33m.\u001b[0m\u001b[1;33m\u001b[0m\u001b[1;33m\u001b[0m\u001b[0m\n\u001b[0;32m   1979\u001b[0m         \"\"\"\n\u001b[1;32m-> 1980\u001b[1;33m         \u001b[1;32mreturn\u001b[0m \u001b[0mself\u001b[0m\u001b[1;33m.\u001b[0m\u001b[0mrotate\u001b[0m\u001b[1;33m(\u001b[0m\u001b[0mmath\u001b[0m\u001b[1;33m.\u001b[0m\u001b[0mradians\u001b[0m\u001b[1;33m(\u001b[0m\u001b[0mdegrees\u001b[0m\u001b[1;33m)\u001b[0m\u001b[1;33m)\u001b[0m\u001b[1;33m\u001b[0m\u001b[1;33m\u001b[0m\u001b[0m\n\u001b[0m\u001b[0;32m   1981\u001b[0m \u001b[1;33m\u001b[0m\u001b[0m\n\u001b[0;32m   1982\u001b[0m     \u001b[1;32mdef\u001b[0m \u001b[0mrotate_around\u001b[0m\u001b[1;33m(\u001b[0m\u001b[0mself\u001b[0m\u001b[1;33m,\u001b[0m \u001b[0mx\u001b[0m\u001b[1;33m,\u001b[0m \u001b[0my\u001b[0m\u001b[1;33m,\u001b[0m \u001b[0mtheta\u001b[0m\u001b[1;33m)\u001b[0m\u001b[1;33m:\u001b[0m\u001b[1;33m\u001b[0m\u001b[1;33m\u001b[0m\u001b[0m\n",
            "\u001b[1;32m~\\AppData\\Local\\Programs\\Python\\Python39\\lib\\site-packages\\matplotlib\\transforms.py\u001b[0m in \u001b[0;36mrotate\u001b[1;34m(self, theta)\u001b[0m\n\u001b[0;32m   1966\u001b[0m         rotate_mtx = np.array([[a, -b, 0.0], [b, a, 0.0], [0.0, 0.0, 1.0]],\n\u001b[0;32m   1967\u001b[0m                               float)\n\u001b[1;32m-> 1968\u001b[1;33m         \u001b[0mself\u001b[0m\u001b[1;33m.\u001b[0m\u001b[0m_mtx\u001b[0m \u001b[1;33m=\u001b[0m \u001b[0mnp\u001b[0m\u001b[1;33m.\u001b[0m\u001b[0mdot\u001b[0m\u001b[1;33m(\u001b[0m\u001b[0mrotate_mtx\u001b[0m\u001b[1;33m,\u001b[0m \u001b[0mself\u001b[0m\u001b[1;33m.\u001b[0m\u001b[0m_mtx\u001b[0m\u001b[1;33m)\u001b[0m\u001b[1;33m\u001b[0m\u001b[1;33m\u001b[0m\u001b[0m\n\u001b[0m\u001b[0;32m   1969\u001b[0m         \u001b[0mself\u001b[0m\u001b[1;33m.\u001b[0m\u001b[0minvalidate\u001b[0m\u001b[1;33m(\u001b[0m\u001b[1;33m)\u001b[0m\u001b[1;33m\u001b[0m\u001b[1;33m\u001b[0m\u001b[0m\n\u001b[0;32m   1970\u001b[0m         \u001b[1;32mreturn\u001b[0m \u001b[0mself\u001b[0m\u001b[1;33m\u001b[0m\u001b[1;33m\u001b[0m\u001b[0m\n",
            "\u001b[1;32m<__array_function__ internals>\u001b[0m in \u001b[0;36mdot\u001b[1;34m(*args, **kwargs)\u001b[0m\n",
            "\u001b[1;31mKeyboardInterrupt\u001b[0m: "
          ]
        },
        {
          "name": "stdout",
          "output_type": "stream",
          "text": [
            "Error in callback <function flush_figures at 0x00000258614E8D30> (for post_execute):\n"
          ]
        },
        {
          "ename": "KeyboardInterrupt",
          "evalue": "",
          "output_type": "error",
          "traceback": [
            "\u001b[1;31m---------------------------------------------------------------------------\u001b[0m",
            "\u001b[1;31mKeyboardInterrupt\u001b[0m                         Traceback (most recent call last)",
            "\u001b[1;32m~\\AppData\\Local\\Programs\\Python\\Python39\\lib\\site-packages\\matplotlib_inline\\backend_inline.py\u001b[0m in \u001b[0;36mflush_figures\u001b[1;34m()\u001b[0m\n\u001b[0;32m    119\u001b[0m         \u001b[1;31m# ignore the tracking, just draw and close all figures\u001b[0m\u001b[1;33m\u001b[0m\u001b[1;33m\u001b[0m\u001b[1;33m\u001b[0m\u001b[0m\n\u001b[0;32m    120\u001b[0m         \u001b[1;32mtry\u001b[0m\u001b[1;33m:\u001b[0m\u001b[1;33m\u001b[0m\u001b[1;33m\u001b[0m\u001b[0m\n\u001b[1;32m--> 121\u001b[1;33m             \u001b[1;32mreturn\u001b[0m \u001b[0mshow\u001b[0m\u001b[1;33m(\u001b[0m\u001b[1;32mTrue\u001b[0m\u001b[1;33m)\u001b[0m\u001b[1;33m\u001b[0m\u001b[1;33m\u001b[0m\u001b[0m\n\u001b[0m\u001b[0;32m    122\u001b[0m         \u001b[1;32mexcept\u001b[0m \u001b[0mException\u001b[0m \u001b[1;32mas\u001b[0m \u001b[0me\u001b[0m\u001b[1;33m:\u001b[0m\u001b[1;33m\u001b[0m\u001b[1;33m\u001b[0m\u001b[0m\n\u001b[0;32m    123\u001b[0m             \u001b[1;31m# safely show traceback if in IPython, else raise\u001b[0m\u001b[1;33m\u001b[0m\u001b[1;33m\u001b[0m\u001b[1;33m\u001b[0m\u001b[0m\n",
            "\u001b[1;32m~\\AppData\\Local\\Programs\\Python\\Python39\\lib\\site-packages\\matplotlib_inline\\backend_inline.py\u001b[0m in \u001b[0;36mshow\u001b[1;34m(close, block)\u001b[0m\n\u001b[0;32m     39\u001b[0m     \u001b[1;32mtry\u001b[0m\u001b[1;33m:\u001b[0m\u001b[1;33m\u001b[0m\u001b[1;33m\u001b[0m\u001b[0m\n\u001b[0;32m     40\u001b[0m         \u001b[1;32mfor\u001b[0m \u001b[0mfigure_manager\u001b[0m \u001b[1;32min\u001b[0m \u001b[0mGcf\u001b[0m\u001b[1;33m.\u001b[0m\u001b[0mget_all_fig_managers\u001b[0m\u001b[1;33m(\u001b[0m\u001b[1;33m)\u001b[0m\u001b[1;33m:\u001b[0m\u001b[1;33m\u001b[0m\u001b[1;33m\u001b[0m\u001b[0m\n\u001b[1;32m---> 41\u001b[1;33m             display(\n\u001b[0m\u001b[0;32m     42\u001b[0m                 \u001b[0mfigure_manager\u001b[0m\u001b[1;33m.\u001b[0m\u001b[0mcanvas\u001b[0m\u001b[1;33m.\u001b[0m\u001b[0mfigure\u001b[0m\u001b[1;33m,\u001b[0m\u001b[1;33m\u001b[0m\u001b[1;33m\u001b[0m\u001b[0m\n\u001b[0;32m     43\u001b[0m                 \u001b[0mmetadata\u001b[0m\u001b[1;33m=\u001b[0m\u001b[0m_fetch_figure_metadata\u001b[0m\u001b[1;33m(\u001b[0m\u001b[0mfigure_manager\u001b[0m\u001b[1;33m.\u001b[0m\u001b[0mcanvas\u001b[0m\u001b[1;33m.\u001b[0m\u001b[0mfigure\u001b[0m\u001b[1;33m)\u001b[0m\u001b[1;33m\u001b[0m\u001b[1;33m\u001b[0m\u001b[0m\n",
            "\u001b[1;32m~\\AppData\\Local\\Programs\\Python\\Python39\\lib\\site-packages\\IPython\\core\\display.py\u001b[0m in \u001b[0;36mdisplay\u001b[1;34m(include, exclude, metadata, transient, display_id, *objs, **kwargs)\u001b[0m\n\u001b[0;32m    318\u001b[0m             \u001b[0mpublish_display_data\u001b[0m\u001b[1;33m(\u001b[0m\u001b[0mdata\u001b[0m\u001b[1;33m=\u001b[0m\u001b[0mobj\u001b[0m\u001b[1;33m,\u001b[0m \u001b[0mmetadata\u001b[0m\u001b[1;33m=\u001b[0m\u001b[0mmetadata\u001b[0m\u001b[1;33m,\u001b[0m \u001b[1;33m**\u001b[0m\u001b[0mkwargs\u001b[0m\u001b[1;33m)\u001b[0m\u001b[1;33m\u001b[0m\u001b[1;33m\u001b[0m\u001b[0m\n\u001b[0;32m    319\u001b[0m         \u001b[1;32melse\u001b[0m\u001b[1;33m:\u001b[0m\u001b[1;33m\u001b[0m\u001b[1;33m\u001b[0m\u001b[0m\n\u001b[1;32m--> 320\u001b[1;33m             \u001b[0mformat_dict\u001b[0m\u001b[1;33m,\u001b[0m \u001b[0mmd_dict\u001b[0m \u001b[1;33m=\u001b[0m \u001b[0mformat\u001b[0m\u001b[1;33m(\u001b[0m\u001b[0mobj\u001b[0m\u001b[1;33m,\u001b[0m \u001b[0minclude\u001b[0m\u001b[1;33m=\u001b[0m\u001b[0minclude\u001b[0m\u001b[1;33m,\u001b[0m \u001b[0mexclude\u001b[0m\u001b[1;33m=\u001b[0m\u001b[0mexclude\u001b[0m\u001b[1;33m)\u001b[0m\u001b[1;33m\u001b[0m\u001b[1;33m\u001b[0m\u001b[0m\n\u001b[0m\u001b[0;32m    321\u001b[0m             \u001b[1;32mif\u001b[0m \u001b[1;32mnot\u001b[0m \u001b[0mformat_dict\u001b[0m\u001b[1;33m:\u001b[0m\u001b[1;33m\u001b[0m\u001b[1;33m\u001b[0m\u001b[0m\n\u001b[0;32m    322\u001b[0m                 \u001b[1;31m# nothing to display (e.g. _ipython_display_ took over)\u001b[0m\u001b[1;33m\u001b[0m\u001b[1;33m\u001b[0m\u001b[1;33m\u001b[0m\u001b[0m\n",
            "\u001b[1;32m~\\AppData\\Local\\Programs\\Python\\Python39\\lib\\site-packages\\IPython\\core\\formatters.py\u001b[0m in \u001b[0;36mformat\u001b[1;34m(self, obj, include, exclude)\u001b[0m\n\u001b[0;32m    178\u001b[0m             \u001b[0mmd\u001b[0m \u001b[1;33m=\u001b[0m \u001b[1;32mNone\u001b[0m\u001b[1;33m\u001b[0m\u001b[1;33m\u001b[0m\u001b[0m\n\u001b[0;32m    179\u001b[0m             \u001b[1;32mtry\u001b[0m\u001b[1;33m:\u001b[0m\u001b[1;33m\u001b[0m\u001b[1;33m\u001b[0m\u001b[0m\n\u001b[1;32m--> 180\u001b[1;33m                 \u001b[0mdata\u001b[0m \u001b[1;33m=\u001b[0m \u001b[0mformatter\u001b[0m\u001b[1;33m(\u001b[0m\u001b[0mobj\u001b[0m\u001b[1;33m)\u001b[0m\u001b[1;33m\u001b[0m\u001b[1;33m\u001b[0m\u001b[0m\n\u001b[0m\u001b[0;32m    181\u001b[0m             \u001b[1;32mexcept\u001b[0m\u001b[1;33m:\u001b[0m\u001b[1;33m\u001b[0m\u001b[1;33m\u001b[0m\u001b[0m\n\u001b[0;32m    182\u001b[0m                 \u001b[1;31m# FIXME: log the exception\u001b[0m\u001b[1;33m\u001b[0m\u001b[1;33m\u001b[0m\u001b[1;33m\u001b[0m\u001b[0m\n",
            "\u001b[1;32m~\\AppData\\Local\\Programs\\Python\\Python39\\lib\\site-packages\\decorator.py\u001b[0m in \u001b[0;36mfun\u001b[1;34m(*args, **kw)\u001b[0m\n\u001b[0;32m    230\u001b[0m             \u001b[1;32mif\u001b[0m \u001b[1;32mnot\u001b[0m \u001b[0mkwsyntax\u001b[0m\u001b[1;33m:\u001b[0m\u001b[1;33m\u001b[0m\u001b[1;33m\u001b[0m\u001b[0m\n\u001b[0;32m    231\u001b[0m                 \u001b[0margs\u001b[0m\u001b[1;33m,\u001b[0m \u001b[0mkw\u001b[0m \u001b[1;33m=\u001b[0m \u001b[0mfix\u001b[0m\u001b[1;33m(\u001b[0m\u001b[0margs\u001b[0m\u001b[1;33m,\u001b[0m \u001b[0mkw\u001b[0m\u001b[1;33m,\u001b[0m \u001b[0msig\u001b[0m\u001b[1;33m)\u001b[0m\u001b[1;33m\u001b[0m\u001b[1;33m\u001b[0m\u001b[0m\n\u001b[1;32m--> 232\u001b[1;33m             \u001b[1;32mreturn\u001b[0m \u001b[0mcaller\u001b[0m\u001b[1;33m(\u001b[0m\u001b[0mfunc\u001b[0m\u001b[1;33m,\u001b[0m \u001b[1;33m*\u001b[0m\u001b[1;33m(\u001b[0m\u001b[0mextras\u001b[0m \u001b[1;33m+\u001b[0m \u001b[0margs\u001b[0m\u001b[1;33m)\u001b[0m\u001b[1;33m,\u001b[0m \u001b[1;33m**\u001b[0m\u001b[0mkw\u001b[0m\u001b[1;33m)\u001b[0m\u001b[1;33m\u001b[0m\u001b[1;33m\u001b[0m\u001b[0m\n\u001b[0m\u001b[0;32m    233\u001b[0m     \u001b[0mfun\u001b[0m\u001b[1;33m.\u001b[0m\u001b[0m__name__\u001b[0m \u001b[1;33m=\u001b[0m \u001b[0mfunc\u001b[0m\u001b[1;33m.\u001b[0m\u001b[0m__name__\u001b[0m\u001b[1;33m\u001b[0m\u001b[1;33m\u001b[0m\u001b[0m\n\u001b[0;32m    234\u001b[0m     \u001b[0mfun\u001b[0m\u001b[1;33m.\u001b[0m\u001b[0m__doc__\u001b[0m \u001b[1;33m=\u001b[0m \u001b[0mfunc\u001b[0m\u001b[1;33m.\u001b[0m\u001b[0m__doc__\u001b[0m\u001b[1;33m\u001b[0m\u001b[1;33m\u001b[0m\u001b[0m\n",
            "\u001b[1;32m~\\AppData\\Local\\Programs\\Python\\Python39\\lib\\site-packages\\IPython\\core\\formatters.py\u001b[0m in \u001b[0;36mcatch_format_error\u001b[1;34m(method, self, *args, **kwargs)\u001b[0m\n\u001b[0;32m    222\u001b[0m     \u001b[1;34m\"\"\"show traceback on failed format call\"\"\"\u001b[0m\u001b[1;33m\u001b[0m\u001b[1;33m\u001b[0m\u001b[0m\n\u001b[0;32m    223\u001b[0m     \u001b[1;32mtry\u001b[0m\u001b[1;33m:\u001b[0m\u001b[1;33m\u001b[0m\u001b[1;33m\u001b[0m\u001b[0m\n\u001b[1;32m--> 224\u001b[1;33m         \u001b[0mr\u001b[0m \u001b[1;33m=\u001b[0m \u001b[0mmethod\u001b[0m\u001b[1;33m(\u001b[0m\u001b[0mself\u001b[0m\u001b[1;33m,\u001b[0m \u001b[1;33m*\u001b[0m\u001b[0margs\u001b[0m\u001b[1;33m,\u001b[0m \u001b[1;33m**\u001b[0m\u001b[0mkwargs\u001b[0m\u001b[1;33m)\u001b[0m\u001b[1;33m\u001b[0m\u001b[1;33m\u001b[0m\u001b[0m\n\u001b[0m\u001b[0;32m    225\u001b[0m     \u001b[1;32mexcept\u001b[0m \u001b[0mNotImplementedError\u001b[0m\u001b[1;33m:\u001b[0m\u001b[1;33m\u001b[0m\u001b[1;33m\u001b[0m\u001b[0m\n\u001b[0;32m    226\u001b[0m         \u001b[1;31m# don't warn on NotImplementedErrors\u001b[0m\u001b[1;33m\u001b[0m\u001b[1;33m\u001b[0m\u001b[1;33m\u001b[0m\u001b[0m\n",
            "\u001b[1;32m~\\AppData\\Local\\Programs\\Python\\Python39\\lib\\site-packages\\IPython\\core\\formatters.py\u001b[0m in \u001b[0;36m__call__\u001b[1;34m(self, obj)\u001b[0m\n\u001b[0;32m    339\u001b[0m                 \u001b[1;32mpass\u001b[0m\u001b[1;33m\u001b[0m\u001b[1;33m\u001b[0m\u001b[0m\n\u001b[0;32m    340\u001b[0m             \u001b[1;32melse\u001b[0m\u001b[1;33m:\u001b[0m\u001b[1;33m\u001b[0m\u001b[1;33m\u001b[0m\u001b[0m\n\u001b[1;32m--> 341\u001b[1;33m                 \u001b[1;32mreturn\u001b[0m \u001b[0mprinter\u001b[0m\u001b[1;33m(\u001b[0m\u001b[0mobj\u001b[0m\u001b[1;33m)\u001b[0m\u001b[1;33m\u001b[0m\u001b[1;33m\u001b[0m\u001b[0m\n\u001b[0m\u001b[0;32m    342\u001b[0m             \u001b[1;31m# Finally look for special method names\u001b[0m\u001b[1;33m\u001b[0m\u001b[1;33m\u001b[0m\u001b[1;33m\u001b[0m\u001b[0m\n\u001b[0;32m    343\u001b[0m             \u001b[0mmethod\u001b[0m \u001b[1;33m=\u001b[0m \u001b[0mget_real_method\u001b[0m\u001b[1;33m(\u001b[0m\u001b[0mobj\u001b[0m\u001b[1;33m,\u001b[0m \u001b[0mself\u001b[0m\u001b[1;33m.\u001b[0m\u001b[0mprint_method\u001b[0m\u001b[1;33m)\u001b[0m\u001b[1;33m\u001b[0m\u001b[1;33m\u001b[0m\u001b[0m\n",
            "\u001b[1;32m~\\AppData\\Local\\Programs\\Python\\Python39\\lib\\site-packages\\IPython\\core\\pylabtools.py\u001b[0m in \u001b[0;36mprint_figure\u001b[1;34m(fig, fmt, bbox_inches, base64, **kwargs)\u001b[0m\n\u001b[0;32m    149\u001b[0m         \u001b[0mFigureCanvasBase\u001b[0m\u001b[1;33m(\u001b[0m\u001b[0mfig\u001b[0m\u001b[1;33m)\u001b[0m\u001b[1;33m\u001b[0m\u001b[1;33m\u001b[0m\u001b[0m\n\u001b[0;32m    150\u001b[0m \u001b[1;33m\u001b[0m\u001b[0m\n\u001b[1;32m--> 151\u001b[1;33m     \u001b[0mfig\u001b[0m\u001b[1;33m.\u001b[0m\u001b[0mcanvas\u001b[0m\u001b[1;33m.\u001b[0m\u001b[0mprint_figure\u001b[0m\u001b[1;33m(\u001b[0m\u001b[0mbytes_io\u001b[0m\u001b[1;33m,\u001b[0m \u001b[1;33m**\u001b[0m\u001b[0mkw\u001b[0m\u001b[1;33m)\u001b[0m\u001b[1;33m\u001b[0m\u001b[1;33m\u001b[0m\u001b[0m\n\u001b[0m\u001b[0;32m    152\u001b[0m     \u001b[0mdata\u001b[0m \u001b[1;33m=\u001b[0m \u001b[0mbytes_io\u001b[0m\u001b[1;33m.\u001b[0m\u001b[0mgetvalue\u001b[0m\u001b[1;33m(\u001b[0m\u001b[1;33m)\u001b[0m\u001b[1;33m\u001b[0m\u001b[1;33m\u001b[0m\u001b[0m\n\u001b[0;32m    153\u001b[0m     \u001b[1;32mif\u001b[0m \u001b[0mfmt\u001b[0m \u001b[1;33m==\u001b[0m \u001b[1;34m'svg'\u001b[0m\u001b[1;33m:\u001b[0m\u001b[1;33m\u001b[0m\u001b[1;33m\u001b[0m\u001b[0m\n",
            "\u001b[1;32m~\\AppData\\Local\\Programs\\Python\\Python39\\lib\\site-packages\\matplotlib\\backend_bases.py\u001b[0m in \u001b[0;36mprint_figure\u001b[1;34m(self, filename, dpi, facecolor, edgecolor, orientation, format, bbox_inches, pad_inches, bbox_extra_artists, backend, **kwargs)\u001b[0m\n\u001b[0;32m   2228\u001b[0m                        else suppress())\n\u001b[0;32m   2229\u001b[0m                 \u001b[1;32mwith\u001b[0m \u001b[0mctx\u001b[0m\u001b[1;33m:\u001b[0m\u001b[1;33m\u001b[0m\u001b[1;33m\u001b[0m\u001b[0m\n\u001b[1;32m-> 2230\u001b[1;33m                     \u001b[0mself\u001b[0m\u001b[1;33m.\u001b[0m\u001b[0mfigure\u001b[0m\u001b[1;33m.\u001b[0m\u001b[0mdraw\u001b[0m\u001b[1;33m(\u001b[0m\u001b[0mrenderer\u001b[0m\u001b[1;33m)\u001b[0m\u001b[1;33m\u001b[0m\u001b[1;33m\u001b[0m\u001b[0m\n\u001b[0m\u001b[0;32m   2231\u001b[0m \u001b[1;33m\u001b[0m\u001b[0m\n\u001b[0;32m   2232\u001b[0m             \u001b[1;32mif\u001b[0m \u001b[0mbbox_inches\u001b[0m\u001b[1;33m:\u001b[0m\u001b[1;33m\u001b[0m\u001b[1;33m\u001b[0m\u001b[0m\n",
            "\u001b[1;32m~\\AppData\\Local\\Programs\\Python\\Python39\\lib\\site-packages\\matplotlib\\artist.py\u001b[0m in \u001b[0;36mdraw_wrapper\u001b[1;34m(artist, renderer, *args, **kwargs)\u001b[0m\n\u001b[0;32m     72\u001b[0m     \u001b[1;33m@\u001b[0m\u001b[0mwraps\u001b[0m\u001b[1;33m(\u001b[0m\u001b[0mdraw\u001b[0m\u001b[1;33m)\u001b[0m\u001b[1;33m\u001b[0m\u001b[1;33m\u001b[0m\u001b[0m\n\u001b[0;32m     73\u001b[0m     \u001b[1;32mdef\u001b[0m \u001b[0mdraw_wrapper\u001b[0m\u001b[1;33m(\u001b[0m\u001b[0martist\u001b[0m\u001b[1;33m,\u001b[0m \u001b[0mrenderer\u001b[0m\u001b[1;33m,\u001b[0m \u001b[1;33m*\u001b[0m\u001b[0margs\u001b[0m\u001b[1;33m,\u001b[0m \u001b[1;33m**\u001b[0m\u001b[0mkwargs\u001b[0m\u001b[1;33m)\u001b[0m\u001b[1;33m:\u001b[0m\u001b[1;33m\u001b[0m\u001b[1;33m\u001b[0m\u001b[0m\n\u001b[1;32m---> 74\u001b[1;33m         \u001b[0mresult\u001b[0m \u001b[1;33m=\u001b[0m \u001b[0mdraw\u001b[0m\u001b[1;33m(\u001b[0m\u001b[0martist\u001b[0m\u001b[1;33m,\u001b[0m \u001b[0mrenderer\u001b[0m\u001b[1;33m,\u001b[0m \u001b[1;33m*\u001b[0m\u001b[0margs\u001b[0m\u001b[1;33m,\u001b[0m \u001b[1;33m**\u001b[0m\u001b[0mkwargs\u001b[0m\u001b[1;33m)\u001b[0m\u001b[1;33m\u001b[0m\u001b[1;33m\u001b[0m\u001b[0m\n\u001b[0m\u001b[0;32m     75\u001b[0m         \u001b[1;32mif\u001b[0m \u001b[0mrenderer\u001b[0m\u001b[1;33m.\u001b[0m\u001b[0m_rasterizing\u001b[0m\u001b[1;33m:\u001b[0m\u001b[1;33m\u001b[0m\u001b[1;33m\u001b[0m\u001b[0m\n\u001b[0;32m     76\u001b[0m             \u001b[0mrenderer\u001b[0m\u001b[1;33m.\u001b[0m\u001b[0mstop_rasterizing\u001b[0m\u001b[1;33m(\u001b[0m\u001b[1;33m)\u001b[0m\u001b[1;33m\u001b[0m\u001b[1;33m\u001b[0m\u001b[0m\n",
            "\u001b[1;32m~\\AppData\\Local\\Programs\\Python\\Python39\\lib\\site-packages\\matplotlib\\artist.py\u001b[0m in \u001b[0;36mdraw_wrapper\u001b[1;34m(artist, renderer, *args, **kwargs)\u001b[0m\n\u001b[0;32m     49\u001b[0m                 \u001b[0mrenderer\u001b[0m\u001b[1;33m.\u001b[0m\u001b[0mstart_filter\u001b[0m\u001b[1;33m(\u001b[0m\u001b[1;33m)\u001b[0m\u001b[1;33m\u001b[0m\u001b[1;33m\u001b[0m\u001b[0m\n\u001b[0;32m     50\u001b[0m \u001b[1;33m\u001b[0m\u001b[0m\n\u001b[1;32m---> 51\u001b[1;33m             \u001b[1;32mreturn\u001b[0m \u001b[0mdraw\u001b[0m\u001b[1;33m(\u001b[0m\u001b[0martist\u001b[0m\u001b[1;33m,\u001b[0m \u001b[0mrenderer\u001b[0m\u001b[1;33m,\u001b[0m \u001b[1;33m*\u001b[0m\u001b[0margs\u001b[0m\u001b[1;33m,\u001b[0m \u001b[1;33m**\u001b[0m\u001b[0mkwargs\u001b[0m\u001b[1;33m)\u001b[0m\u001b[1;33m\u001b[0m\u001b[1;33m\u001b[0m\u001b[0m\n\u001b[0m\u001b[0;32m     52\u001b[0m         \u001b[1;32mfinally\u001b[0m\u001b[1;33m:\u001b[0m\u001b[1;33m\u001b[0m\u001b[1;33m\u001b[0m\u001b[0m\n\u001b[0;32m     53\u001b[0m             \u001b[1;32mif\u001b[0m \u001b[0martist\u001b[0m\u001b[1;33m.\u001b[0m\u001b[0mget_agg_filter\u001b[0m\u001b[1;33m(\u001b[0m\u001b[1;33m)\u001b[0m \u001b[1;32mis\u001b[0m \u001b[1;32mnot\u001b[0m \u001b[1;32mNone\u001b[0m\u001b[1;33m:\u001b[0m\u001b[1;33m\u001b[0m\u001b[1;33m\u001b[0m\u001b[0m\n",
            "\u001b[1;32m~\\AppData\\Local\\Programs\\Python\\Python39\\lib\\site-packages\\matplotlib\\figure.py\u001b[0m in \u001b[0;36mdraw\u001b[1;34m(self, renderer)\u001b[0m\n\u001b[0;32m   2788\u001b[0m \u001b[1;33m\u001b[0m\u001b[0m\n\u001b[0;32m   2789\u001b[0m             \u001b[0mself\u001b[0m\u001b[1;33m.\u001b[0m\u001b[0mpatch\u001b[0m\u001b[1;33m.\u001b[0m\u001b[0mdraw\u001b[0m\u001b[1;33m(\u001b[0m\u001b[0mrenderer\u001b[0m\u001b[1;33m)\u001b[0m\u001b[1;33m\u001b[0m\u001b[1;33m\u001b[0m\u001b[0m\n\u001b[1;32m-> 2790\u001b[1;33m             mimage._draw_list_compositing_images(\n\u001b[0m\u001b[0;32m   2791\u001b[0m                 renderer, self, artists, self.suppressComposite)\n\u001b[0;32m   2792\u001b[0m \u001b[1;33m\u001b[0m\u001b[0m\n",
            "\u001b[1;32m~\\AppData\\Local\\Programs\\Python\\Python39\\lib\\site-packages\\matplotlib\\image.py\u001b[0m in \u001b[0;36m_draw_list_compositing_images\u001b[1;34m(renderer, parent, artists, suppress_composite)\u001b[0m\n\u001b[0;32m    130\u001b[0m     \u001b[1;32mif\u001b[0m \u001b[0mnot_composite\u001b[0m \u001b[1;32mor\u001b[0m \u001b[1;32mnot\u001b[0m \u001b[0mhas_images\u001b[0m\u001b[1;33m:\u001b[0m\u001b[1;33m\u001b[0m\u001b[1;33m\u001b[0m\u001b[0m\n\u001b[0;32m    131\u001b[0m         \u001b[1;32mfor\u001b[0m \u001b[0ma\u001b[0m \u001b[1;32min\u001b[0m \u001b[0martists\u001b[0m\u001b[1;33m:\u001b[0m\u001b[1;33m\u001b[0m\u001b[1;33m\u001b[0m\u001b[0m\n\u001b[1;32m--> 132\u001b[1;33m             \u001b[0ma\u001b[0m\u001b[1;33m.\u001b[0m\u001b[0mdraw\u001b[0m\u001b[1;33m(\u001b[0m\u001b[0mrenderer\u001b[0m\u001b[1;33m)\u001b[0m\u001b[1;33m\u001b[0m\u001b[1;33m\u001b[0m\u001b[0m\n\u001b[0m\u001b[0;32m    133\u001b[0m     \u001b[1;32melse\u001b[0m\u001b[1;33m:\u001b[0m\u001b[1;33m\u001b[0m\u001b[1;33m\u001b[0m\u001b[0m\n\u001b[0;32m    134\u001b[0m         \u001b[1;31m# Composite any adjacent images together\u001b[0m\u001b[1;33m\u001b[0m\u001b[1;33m\u001b[0m\u001b[1;33m\u001b[0m\u001b[0m\n",
            "\u001b[1;32m~\\AppData\\Local\\Programs\\Python\\Python39\\lib\\site-packages\\matplotlib\\artist.py\u001b[0m in \u001b[0;36mdraw_wrapper\u001b[1;34m(artist, renderer, *args, **kwargs)\u001b[0m\n\u001b[0;32m     49\u001b[0m                 \u001b[0mrenderer\u001b[0m\u001b[1;33m.\u001b[0m\u001b[0mstart_filter\u001b[0m\u001b[1;33m(\u001b[0m\u001b[1;33m)\u001b[0m\u001b[1;33m\u001b[0m\u001b[1;33m\u001b[0m\u001b[0m\n\u001b[0;32m     50\u001b[0m \u001b[1;33m\u001b[0m\u001b[0m\n\u001b[1;32m---> 51\u001b[1;33m             \u001b[1;32mreturn\u001b[0m \u001b[0mdraw\u001b[0m\u001b[1;33m(\u001b[0m\u001b[0martist\u001b[0m\u001b[1;33m,\u001b[0m \u001b[0mrenderer\u001b[0m\u001b[1;33m,\u001b[0m \u001b[1;33m*\u001b[0m\u001b[0margs\u001b[0m\u001b[1;33m,\u001b[0m \u001b[1;33m**\u001b[0m\u001b[0mkwargs\u001b[0m\u001b[1;33m)\u001b[0m\u001b[1;33m\u001b[0m\u001b[1;33m\u001b[0m\u001b[0m\n\u001b[0m\u001b[0;32m     52\u001b[0m         \u001b[1;32mfinally\u001b[0m\u001b[1;33m:\u001b[0m\u001b[1;33m\u001b[0m\u001b[1;33m\u001b[0m\u001b[0m\n\u001b[0;32m     53\u001b[0m             \u001b[1;32mif\u001b[0m \u001b[0martist\u001b[0m\u001b[1;33m.\u001b[0m\u001b[0mget_agg_filter\u001b[0m\u001b[1;33m(\u001b[0m\u001b[1;33m)\u001b[0m \u001b[1;32mis\u001b[0m \u001b[1;32mnot\u001b[0m \u001b[1;32mNone\u001b[0m\u001b[1;33m:\u001b[0m\u001b[1;33m\u001b[0m\u001b[1;33m\u001b[0m\u001b[0m\n",
            "\u001b[1;32m~\\AppData\\Local\\Programs\\Python\\Python39\\lib\\site-packages\\matplotlib\\_api\\deprecation.py\u001b[0m in \u001b[0;36mwrapper\u001b[1;34m(*inner_args, **inner_kwargs)\u001b[0m\n\u001b[0;32m    429\u001b[0m                          \u001b[1;32melse\u001b[0m \u001b[0mdeprecation_addendum\u001b[0m\u001b[1;33m,\u001b[0m\u001b[1;33m\u001b[0m\u001b[1;33m\u001b[0m\u001b[0m\n\u001b[0;32m    430\u001b[0m                 **kwargs)\n\u001b[1;32m--> 431\u001b[1;33m         \u001b[1;32mreturn\u001b[0m \u001b[0mfunc\u001b[0m\u001b[1;33m(\u001b[0m\u001b[1;33m*\u001b[0m\u001b[0minner_args\u001b[0m\u001b[1;33m,\u001b[0m \u001b[1;33m**\u001b[0m\u001b[0minner_kwargs\u001b[0m\u001b[1;33m)\u001b[0m\u001b[1;33m\u001b[0m\u001b[1;33m\u001b[0m\u001b[0m\n\u001b[0m\u001b[0;32m    432\u001b[0m \u001b[1;33m\u001b[0m\u001b[0m\n\u001b[0;32m    433\u001b[0m     \u001b[1;32mreturn\u001b[0m \u001b[0mwrapper\u001b[0m\u001b[1;33m\u001b[0m\u001b[1;33m\u001b[0m\u001b[0m\n",
            "\u001b[1;32m~\\AppData\\Local\\Programs\\Python\\Python39\\lib\\site-packages\\matplotlib\\axes\\_base.py\u001b[0m in \u001b[0;36mdraw\u001b[1;34m(self, renderer, inframe)\u001b[0m\n\u001b[0;32m   2919\u001b[0m             \u001b[0mrenderer\u001b[0m\u001b[1;33m.\u001b[0m\u001b[0mstop_rasterizing\u001b[0m\u001b[1;33m(\u001b[0m\u001b[1;33m)\u001b[0m\u001b[1;33m\u001b[0m\u001b[1;33m\u001b[0m\u001b[0m\n\u001b[0;32m   2920\u001b[0m \u001b[1;33m\u001b[0m\u001b[0m\n\u001b[1;32m-> 2921\u001b[1;33m         \u001b[0mmimage\u001b[0m\u001b[1;33m.\u001b[0m\u001b[0m_draw_list_compositing_images\u001b[0m\u001b[1;33m(\u001b[0m\u001b[0mrenderer\u001b[0m\u001b[1;33m,\u001b[0m \u001b[0mself\u001b[0m\u001b[1;33m,\u001b[0m \u001b[0martists\u001b[0m\u001b[1;33m)\u001b[0m\u001b[1;33m\u001b[0m\u001b[1;33m\u001b[0m\u001b[0m\n\u001b[0m\u001b[0;32m   2922\u001b[0m \u001b[1;33m\u001b[0m\u001b[0m\n\u001b[0;32m   2923\u001b[0m         \u001b[0mrenderer\u001b[0m\u001b[1;33m.\u001b[0m\u001b[0mclose_group\u001b[0m\u001b[1;33m(\u001b[0m\u001b[1;34m'axes'\u001b[0m\u001b[1;33m)\u001b[0m\u001b[1;33m\u001b[0m\u001b[1;33m\u001b[0m\u001b[0m\n",
            "\u001b[1;32m~\\AppData\\Local\\Programs\\Python\\Python39\\lib\\site-packages\\matplotlib\\image.py\u001b[0m in \u001b[0;36m_draw_list_compositing_images\u001b[1;34m(renderer, parent, artists, suppress_composite)\u001b[0m\n\u001b[0;32m    130\u001b[0m     \u001b[1;32mif\u001b[0m \u001b[0mnot_composite\u001b[0m \u001b[1;32mor\u001b[0m \u001b[1;32mnot\u001b[0m \u001b[0mhas_images\u001b[0m\u001b[1;33m:\u001b[0m\u001b[1;33m\u001b[0m\u001b[1;33m\u001b[0m\u001b[0m\n\u001b[0;32m    131\u001b[0m         \u001b[1;32mfor\u001b[0m \u001b[0ma\u001b[0m \u001b[1;32min\u001b[0m \u001b[0martists\u001b[0m\u001b[1;33m:\u001b[0m\u001b[1;33m\u001b[0m\u001b[1;33m\u001b[0m\u001b[0m\n\u001b[1;32m--> 132\u001b[1;33m             \u001b[0ma\u001b[0m\u001b[1;33m.\u001b[0m\u001b[0mdraw\u001b[0m\u001b[1;33m(\u001b[0m\u001b[0mrenderer\u001b[0m\u001b[1;33m)\u001b[0m\u001b[1;33m\u001b[0m\u001b[1;33m\u001b[0m\u001b[0m\n\u001b[0m\u001b[0;32m    133\u001b[0m     \u001b[1;32melse\u001b[0m\u001b[1;33m:\u001b[0m\u001b[1;33m\u001b[0m\u001b[1;33m\u001b[0m\u001b[0m\n\u001b[0;32m    134\u001b[0m         \u001b[1;31m# Composite any adjacent images together\u001b[0m\u001b[1;33m\u001b[0m\u001b[1;33m\u001b[0m\u001b[1;33m\u001b[0m\u001b[0m\n",
            "\u001b[1;32m~\\AppData\\Local\\Programs\\Python\\Python39\\lib\\site-packages\\matplotlib\\artist.py\u001b[0m in \u001b[0;36mdraw_wrapper\u001b[1;34m(artist, renderer, *args, **kwargs)\u001b[0m\n\u001b[0;32m     49\u001b[0m                 \u001b[0mrenderer\u001b[0m\u001b[1;33m.\u001b[0m\u001b[0mstart_filter\u001b[0m\u001b[1;33m(\u001b[0m\u001b[1;33m)\u001b[0m\u001b[1;33m\u001b[0m\u001b[1;33m\u001b[0m\u001b[0m\n\u001b[0;32m     50\u001b[0m \u001b[1;33m\u001b[0m\u001b[0m\n\u001b[1;32m---> 51\u001b[1;33m             \u001b[1;32mreturn\u001b[0m \u001b[0mdraw\u001b[0m\u001b[1;33m(\u001b[0m\u001b[0martist\u001b[0m\u001b[1;33m,\u001b[0m \u001b[0mrenderer\u001b[0m\u001b[1;33m,\u001b[0m \u001b[1;33m*\u001b[0m\u001b[0margs\u001b[0m\u001b[1;33m,\u001b[0m \u001b[1;33m**\u001b[0m\u001b[0mkwargs\u001b[0m\u001b[1;33m)\u001b[0m\u001b[1;33m\u001b[0m\u001b[1;33m\u001b[0m\u001b[0m\n\u001b[0m\u001b[0;32m     52\u001b[0m         \u001b[1;32mfinally\u001b[0m\u001b[1;33m:\u001b[0m\u001b[1;33m\u001b[0m\u001b[1;33m\u001b[0m\u001b[0m\n\u001b[0;32m     53\u001b[0m             \u001b[1;32mif\u001b[0m \u001b[0martist\u001b[0m\u001b[1;33m.\u001b[0m\u001b[0mget_agg_filter\u001b[0m\u001b[1;33m(\u001b[0m\u001b[1;33m)\u001b[0m \u001b[1;32mis\u001b[0m \u001b[1;32mnot\u001b[0m \u001b[1;32mNone\u001b[0m\u001b[1;33m:\u001b[0m\u001b[1;33m\u001b[0m\u001b[1;33m\u001b[0m\u001b[0m\n",
            "\u001b[1;32m~\\AppData\\Local\\Programs\\Python\\Python39\\lib\\site-packages\\matplotlib\\patches.py\u001b[0m in \u001b[0;36mdraw\u001b[1;34m(self, renderer)\u001b[0m\n\u001b[0;32m    607\u001b[0m             \u001b[0mtransform\u001b[0m \u001b[1;33m=\u001b[0m \u001b[0mself\u001b[0m\u001b[1;33m.\u001b[0m\u001b[0mget_transform\u001b[0m\u001b[1;33m(\u001b[0m\u001b[1;33m)\u001b[0m\u001b[1;33m\u001b[0m\u001b[1;33m\u001b[0m\u001b[0m\n\u001b[0;32m    608\u001b[0m             \u001b[0mtpath\u001b[0m \u001b[1;33m=\u001b[0m \u001b[0mtransform\u001b[0m\u001b[1;33m.\u001b[0m\u001b[0mtransform_path_non_affine\u001b[0m\u001b[1;33m(\u001b[0m\u001b[0mpath\u001b[0m\u001b[1;33m)\u001b[0m\u001b[1;33m\u001b[0m\u001b[1;33m\u001b[0m\u001b[0m\n\u001b[1;32m--> 609\u001b[1;33m             \u001b[0maffine\u001b[0m \u001b[1;33m=\u001b[0m \u001b[0mtransform\u001b[0m\u001b[1;33m.\u001b[0m\u001b[0mget_affine\u001b[0m\u001b[1;33m(\u001b[0m\u001b[1;33m)\u001b[0m\u001b[1;33m\u001b[0m\u001b[1;33m\u001b[0m\u001b[0m\n\u001b[0m\u001b[0;32m    610\u001b[0m             draw_path(tpath, affine,\n\u001b[0;32m    611\u001b[0m                       \u001b[1;31m# Work around a bug in the PDF and SVG renderers, which\u001b[0m\u001b[1;33m\u001b[0m\u001b[1;33m\u001b[0m\u001b[1;33m\u001b[0m\u001b[0m\n",
            "\u001b[1;32m~\\AppData\\Local\\Programs\\Python\\Python39\\lib\\site-packages\\matplotlib\\transforms.py\u001b[0m in \u001b[0;36mget_affine\u001b[1;34m(self)\u001b[0m\n\u001b[0;32m   2404\u001b[0m             \u001b[1;32mreturn\u001b[0m \u001b[0mself\u001b[0m\u001b[1;33m.\u001b[0m\u001b[0m_b\u001b[0m\u001b[1;33m.\u001b[0m\u001b[0mget_affine\u001b[0m\u001b[1;33m(\u001b[0m\u001b[1;33m)\u001b[0m\u001b[1;33m\u001b[0m\u001b[1;33m\u001b[0m\u001b[0m\n\u001b[0;32m   2405\u001b[0m         \u001b[1;32melse\u001b[0m\u001b[1;33m:\u001b[0m\u001b[1;33m\u001b[0m\u001b[1;33m\u001b[0m\u001b[0m\n\u001b[1;32m-> 2406\u001b[1;33m             return Affine2D(np.dot(self._b.get_affine().get_matrix(),\n\u001b[0m\u001b[0;32m   2407\u001b[0m                                    self._a.get_affine().get_matrix()))\n\u001b[0;32m   2408\u001b[0m \u001b[1;33m\u001b[0m\u001b[0m\n",
            "\u001b[1;32m~\\AppData\\Local\\Programs\\Python\\Python39\\lib\\site-packages\\matplotlib\\transforms.py\u001b[0m in \u001b[0;36mget_affine\u001b[1;34m(self)\u001b[0m\n\u001b[0;32m   2404\u001b[0m             \u001b[1;32mreturn\u001b[0m \u001b[0mself\u001b[0m\u001b[1;33m.\u001b[0m\u001b[0m_b\u001b[0m\u001b[1;33m.\u001b[0m\u001b[0mget_affine\u001b[0m\u001b[1;33m(\u001b[0m\u001b[1;33m)\u001b[0m\u001b[1;33m\u001b[0m\u001b[1;33m\u001b[0m\u001b[0m\n\u001b[0;32m   2405\u001b[0m         \u001b[1;32melse\u001b[0m\u001b[1;33m:\u001b[0m\u001b[1;33m\u001b[0m\u001b[1;33m\u001b[0m\u001b[0m\n\u001b[1;32m-> 2406\u001b[1;33m             return Affine2D(np.dot(self._b.get_affine().get_matrix(),\n\u001b[0m\u001b[0;32m   2407\u001b[0m                                    self._a.get_affine().get_matrix()))\n\u001b[0;32m   2408\u001b[0m \u001b[1;33m\u001b[0m\u001b[0m\n",
            "\u001b[1;32m<__array_function__ internals>\u001b[0m in \u001b[0;36mdot\u001b[1;34m(*args, **kwargs)\u001b[0m\n",
            "\u001b[1;31mKeyboardInterrupt\u001b[0m: "
          ]
        }
      ],
      "source": [
        "def part_3(p, SIM_TIMES):\n",
        "    # TODO: Complete the function and remember to label the axes appropriately\n",
        "    while SIM_TIMES:\n",
        "        n = 1000\n",
        "        Y = []\n",
        "        X = []\n",
        "        while n <= 100000:\n",
        "            mu = random_walk(n, p, 1)\n",
        "            X.append(n)\n",
        "            Y.append(2 * n / mu)\n",
        "            print(n, end=\" \")\n",
        "            n += 1000\n",
        "        SIM_TIMES -= 1\n",
        "\n",
        "    plt.plot(X, Y)\n",
        "    plt.show()\n",
        "\n",
        "\n",
        "part_3(0.5, 1)\n"
      ]
    },
    {
      "cell_type": "markdown",
      "metadata": {
        "id": "kSQiT19wdDlM"
      },
      "source": [
        "# [50 Marks] Task 2 : Maximum Likehlihood Estimation\n"
      ]
    },
    {
      "cell_type": "markdown",
      "metadata": {
        "id": "ALLwgeAQLGbd"
      },
      "source": [
        "## Theoretical Background\n",
        "\n",
        "A common task in statistics is estimating a joint probability distribution\n",
        "given a dataset. For example, suppose you have a sample of observations $(X)$ from a domain $(x_1, x_2, x_3, ⋯, x_n)$, and each observation is taken separately from the domain with the same probability distribution. Density estimation entails choosing a probability distribution function and the distribution's parameters that best describe the observed data's joint probability distribution $(X)$. Maximum a Posteriori (MAP), a Bayesian approach, and Maximum Likelihood Estimation (MLE), a frequentist approach, are the two most popular approaches to solving this problem. However, we will just be discussing MLE in this section.\n",
        "\n",
        "Maximum Likelihood Estimation entails approaching the situation as an optimization or search problem, in which we seek a set of parameters that results in the best fit for the joint probability of the data sample ($X$).\n",
        "In Maximum Likelihood Estimation, we wish to maximize the probability of observing the data from the joint probability distribution given a specific probability distribution and its parameters, stated formally as:\n",
        "\n",
        "$$ P ( X \\mid \\theta) $$\n",
        "where $\\theta$ is the unknown parameter(s).\n",
        "\n",
        "The resulting conditional probability is referred to as the likelihood of observing the data given the model parameters and is written using the notation $L()$ to denote the likelihood function. For example,\n",
        "$$ L (X \\mid \\theta) $$\n",
        "\n",
        "**Note :** Likelihood is defined as probability of the data given the model.\n",
        "\n",
        "The objective of Maximum Likelihood Estimation is to find set of parameters $(\\theta)$ that maximize the likelihood function.\n",
        "$$ \\text{ maximize } L ( X \\mid \\theta) $$\n",
        "\n",
        "Given that the sample is comprised of $n$ examples, we can frame this as the joint probability of the observed data samples $x_1,x_2, \\cdots, x_n$ given the Probability distribution parameters $(\\theta)$:\n",
        "\n",
        "$$ L (x_1, x_2, \\cdots, x_n \\mid \\theta) $$\n",
        "\n",
        "The joint probability distribution can be restated as the multiplication of the conditional probability for observing each example given the distribution parameters.\n",
        "\n",
        "$$ P ( X | \\theta) = P (x*1, x_2, \\cdots, x_n \\mid \\theta) = \\prod *{i=1}^{n} P(x_i | \\theta) $$\n",
        "\n",
        "Multiplying many small probabilities together can be numerically unstable in practice, therefore, it is common to restate this problem as the sum of the log conditional probabilities of observing each example given the model parameters.\n",
        "\n",
        "$$ P ( X \\mid \\theta) = \\sum\\_{i=1}^{n} \\log\\left(P(x_i \\mid \\theta)\\right) $$\n"
      ]
    },
    {
      "cell_type": "markdown",
      "metadata": {
        "id": "wVbavcIXusl3"
      },
      "source": [
        "## Example\n",
        "\n",
        "Let's suppose our vocabulary has only two words i.e. $\\{0,1\\}$. In addition, suppose we are given the document $D = \\{1100\\}$. Furthermore, you are given two multinomial models $ A, B$ with parameters , $ A_0 = 0.2, A_1 = 0.8 ; B_0 = 0.4, B_1 = 0.6 $. Now you are required to find which model has most likely generated this document.\n",
        "\n",
        "In order to find which model has most likely generated this document, we will compute the likelihood of both models for generating the given document and then choose the maximum likelihood.\n",
        "\n",
        "$$ P( D | A ) = (0.2)^{2} \\cdot (0.8)^{2} = 0.0256 $$\n",
        "$$ P( D | B ) = (0.4)^{2} \\cdot (0.6)^{2} = 0.0576 $$\n",
        "\n",
        "Since $ P ( D | B) > P ( D | A) $, Model B has most likely generated this document.\n"
      ]
    },
    {
      "cell_type": "markdown",
      "metadata": {
        "id": "qjwlv7rk0bhC"
      },
      "source": [
        "## Task Overview\n",
        "\n",
        "You will do MLE for Binomial distribution in Task 02, which has been split into four parts.\n",
        "\n",
        "- In Part A, you are required to generate Binomial Random Numbers.\n",
        "- In Part B, you are required to compute likelihood for the data generated in Part A.\n",
        "- In Part C, you are required to compute maximum log likelihood to estimate the value of $p$.\n",
        "- In Part D, you are required to provide reasoning based on your own understanding for the differences between the theoretical and estimated values of $p$.\n"
      ]
    },
    {
      "cell_type": "markdown",
      "metadata": {
        "id": "cYd51_Fse7t8"
      },
      "source": [
        "## [10 Marks] Part A : Generate Binomial Random Numbers\n",
        "\n",
        "**Complete the function $\\texttt{generate\\_random\\_data}$ which generates a binomial random variable with parameters $(size,p,n)$ and plots the histogram of the distribution of simulation results.**\n",
        "\n",
        "**The function $\\texttt{generate\\_random\\_data}$ has already been called for you with $size=30$, $n=10$, and $p=0.5$**\n"
      ]
    },
    {
      "cell_type": "code",
      "execution_count": 19,
      "metadata": {
        "id": "FLLJUnOQZ9l1"
      },
      "outputs": [
        {
          "name": "stdout",
          "output_type": "stream",
          "text": [
            "[5 4 4 2 6 4 5 4 5 4 3 6 4 3 5 6 5 6 4 8 5 8 5 5 6 1 5 5 5 3]\n"
          ]
        },
        {
          "data": {
            "image/png": "[encoded data removed]",
            "text/plain": [
              "<Figure size 432x288 with 1 Axes>"
            ]
          },
          "metadata": {
            "needs_background": "light"
          },
          "output_type": "display_data"
        }
      ],
      "source": [
        "def generate_random_data(size, p, n):\n",
        "    \"\"\"\n",
        "    size: The number of experiments\n",
        "    p: Probability of success\n",
        "    n: Number of trials in each experiment\n",
        "    \"\"\"\n",
        "    np.random.seed(255)\n",
        "    # Generating Random Binomial Numbers\n",
        "\n",
        "    brn = np.random.binomial(n, p, size)\n",
        "\n",
        "    # Print the generated random numbers\n",
        "\n",
        "    print(brn)\n",
        "\n",
        "    # Visualize the generated random number\n",
        "\n",
        "    fig = plt.figure()\n",
        "    ax = fig.add_subplot(\n",
        "        1,\n",
        "        1,\n",
        "        1,\n",
        "    )\n",
        "    n, bins, patches = ax.hist(brn,\n",
        "                               bins=n,\n",
        "                               range=(0, n),\n",
        "                               histtype='bar',\n",
        "                               rwidth=0.5,\n",
        "                               align='left',\n",
        "                               color=\"red\")\n",
        "\n",
        "    plt.xticks(bins)\n",
        "    plt.xlabel(\"Number of Heads\")\n",
        "    plt.ylabel(\"Frequency\")\n",
        "    plt.title(\"Binomial Random Numbers\")\n",
        "    plt.show()\n",
        "\n",
        "    # return the generated Binomial Numbers\n",
        "    return brn\n",
        "\n",
        "\n",
        "X = generate_random_data(size=30, p=0.5, n=10)\n"
      ]
    },
    {
      "cell_type": "code",
      "execution_count": null,
      "metadata": {
        "colab": {
          "base_uri": "https://localhost:8080/",
          "height": 312
        },
        "id": "8I5uzbkPqIc6",
        "outputId": "c892baaa-1706-463c-877d-36217ca9f594"
      },
      "outputs": [
        {
          "name": "stdout",
          "output_type": "stream",
          "text": [
            "[5 4 4 2 6 4 5 4 5 4 3 6 4 3 5 6 5 6 4 8 5 8 5 5 6 1 5 5 5 3]\n"
          ]
        },
        {
          "data": {
            "image/png": "[encoded data removed]",
            "text/plain": [
              "<Figure size 432x288 with 1 Axes>"
            ]
          },
          "metadata": {
            "needs_background": "light"
          },
          "output_type": "display_data"
        }
      ],
      "source": [
        "# Do not edit.\n",
        "X = generate_random_data(size=30, p=0.5, n=10)\n"
      ]
    },
    {
      "cell_type": "markdown",
      "metadata": {
        "id": "5rnL8-PZgwVh"
      },
      "source": [
        "## [10 Marks] Part B : Compute Likelihood\n",
        "\n",
        "**Complete the function $\\texttt{calculate\\_likelihood}$ which computes the likelihood of $X$ given $p$ binomial with parameters $(p,X)$**\n",
        "\n",
        "**The function $\\texttt{calculate\\_likelihood}$ has already been called for you with the data you simulated in Part A and $p=0.5$**\n",
        "\n",
        "**You also are required to comment on the numerical nature of the value that was returned by the function $\\texttt{calculate\\_likelihood}$**\n"
      ]
    },
    {
      "cell_type": "code",
      "execution_count": 22,
      "metadata": {
        "id": "2PZ6kPfv7DVc"
      },
      "outputs": [
        {
          "name": "stdout",
          "output_type": "stream",
          "text": [
            "[5 4 4 2 6 4 5 4 5 4 3 6 4 3 5 6 5 6 4 8 5 8 5 5 6 1 5 5 5 3]\n"
          ]
        },
        {
          "data": {
            "image/png": "[encoded data removed]",
            "text/plain": [
              "<Figure size 432x288 with 1 Axes>"
            ]
          },
          "metadata": {
            "needs_background": "light"
          },
          "output_type": "display_data"
        },
        {
          "data": {
            "text/plain": [
              "1.4798580718218773e-24"
            ]
          },
          "execution_count": 22,
          "metadata": {},
          "output_type": "execute_result"
        }
      ],
      "source": [
        "def calculate_likelihood(p, X):\n",
        "    # TODO : Complete the function\n",
        "    # create a random variable for 10 coin tosses with probability p using stasts.binom\n",
        "    n = 10  # number of coin tosses\n",
        "    coin = stats.binom\n",
        "\n",
        "    # calculate the PMF of that random variable for values X.\n",
        "    coinPMF = np.array([coin._pmf(x, n, p) for x in X])\n",
        "    # return the product\n",
        "    return np.prod(coinPMF)\n",
        "\n",
        "\n",
        "X = generate_random_data(size=30, p=0.5, n=10)\n",
        "# Do not edit\n",
        "calculate_likelihood(0.5, X)\n"
      ]
    },
    {
      "cell_type": "markdown",
      "metadata": {
        "id": "t0VCb3hqf6HD"
      },
      "source": [
        "## [20 Marks] Part C : Compute Maximum Log Likelihood\n",
        "\n",
        "**In Part C, you will be completing the functions $\\texttt{calculate\\_log\\_likelihood}$ and $\\texttt{calculate\\_maximum\\_log\\_likelihood}$.**\n",
        "\n",
        "**The function $\\texttt{calculate\\_log\\_likelihood}$ computes the log likelihood of $X$ given $p$ with parameters $(X,p)$. The function $\\texttt{calculate\\_maximum\\_log\\_likelihood}$ computes the maximum likelihood of the given data $X$ and plots a graph of log likelihood vs $p$ with parameters $(X)$.**\n",
        "\n",
        "**The function $\\texttt{calculate\\_log\\_likelihood}$ has already been called for you with the data you simulated in Part A**\n"
      ]
    },
    {
      "cell_type": "code",
      "execution_count": 23,
      "metadata": {
        "id": "kfvKgQJ0blx-"
      },
      "outputs": [
        {
          "data": {
            "text/plain": [
              "-54.87009604609716"
            ]
          },
          "execution_count": 23,
          "metadata": {},
          "output_type": "execute_result"
        }
      ],
      "source": [
        "# Calculating Likelihood\n",
        "def calculate_log_likelihood(p, X):\n",
        "    # TODO : Complete the function\n",
        "    # create a binomial random variable with parameter 10 and probability p\n",
        "    n = 10  # number of coin tosses\n",
        "    coin = stats.binom\n",
        "    # create a PMF of that random variable for X\n",
        "    coinPMF = np.array([coin._pmf(x, n, p) for x in X])\n",
        "    # Calculate the log\n",
        "    logCoinPMF = np.log(coinPMF)\n",
        "    # Calculate the summation\n",
        "    return np.sum(logCoinPMF)\n",
        "\n",
        "\n",
        "calculate_log_likelihood(0.5, X)"
      ]
    },
    {
      "cell_type": "code",
      "execution_count": 26,
      "metadata": {
        "id": "YRxLL0EibtPh"
      },
      "outputs": [
        {
          "name": "stdout",
          "output_type": "stream",
          "text": [
            "{5: -1.4020427180880297, 4: -1.584364274881985, 2: -3.1248093158291326, 6: -1.584364274881985, 3: -2.1439800628174073, 8: -3.124809315829134, 1: -4.628886712605407}\n",
            "5\n"
          ]
        },
        {
          "data": {
            "image/png": "[encoded data removed]",
            "text/plain": [
              "<Figure size 432x288 with 1 Axes>"
            ]
          },
          "metadata": {
            "needs_background": "light"
          },
          "output_type": "display_data"
        }
      ],
      "source": [
        "# Compute Maximum Likelihood\n",
        "# left\n",
        "def calculate_maximum_log_likelihood(X):\n",
        "    # TODO : Complete the function\n",
        "\n",
        "    x = np.linspace(0.01, 1, 1000, endpoint=False)\n",
        "    # d = {}\n",
        "\n",
        "    # calculate the log likelihood for each value of x and store it in d[x]\n",
        "\n",
        "    n = 10  # number of coin tosses\n",
        "    coin = stats.binom\n",
        "    # coinPMF = np.array([coin._pmf(x, n, 0.5) for x in X])\n",
        "    d = {i: np.log(coin._pmf(i, n, 0.5)) for i in X}\n",
        "\n",
        "    maximumLog = -float(\"inf\")\n",
        "    maximum = None\n",
        "    for x, logPi in d.items():\n",
        "        if maximumLog < logPi:\n",
        "            maximum = x\n",
        "            maximumLog = logPi\n",
        "    print(d)\n",
        "\n",
        "    # plot the maximum Likelihood function using d\n",
        "\n",
        "    plt.plot(d.keys(), d.values())\n",
        "\n",
        "    return (maximum, d[maximum])\n",
        "\n",
        "\n",
        "exp_p, mle = calculate_maximum_log_likelihood(X)\n",
        "print(exp_p)"
      ]
    },
    {
      "cell_type": "code",
      "execution_count": null,
      "metadata": {
        "colab": {
          "base_uri": "https://localhost:8080/",
          "height": 312
        },
        "id": "DpwwXPlyc2YC",
        "outputId": "c089bf7f-dba5-454f-d1a2-807f68ca4939"
      },
      "outputs": [
        {
          "data": {
            "image/png": "[encoded data removed]",
            "text/plain": [
              "<Figure size 432x288 with 1 Axes>"
            ]
          },
          "metadata": {
            "needs_background": "light"
          },
          "output_type": "display_data"
        },
        {
          "name": "stdout",
          "output_type": "stream",
          "text": [
            "0.47035\n"
          ]
        }
      ],
      "source": [
        "exp_p, mle = calculate_maximum_log_likelihood(X)\n",
        "print(exp_p)\n"
      ]
    },
    {
      "cell_type": "markdown",
      "metadata": {
        "id": "KAW3mJLthWeh"
      },
      "source": [
        "## [10 Marks] Part D : Comparision of the theoretical value of $p$ with the estimated value of $p$\n",
        "\n",
        "**In this part, you are required to complete the code which plots the simulated the data, theoretical distribution and the actual distribution on the same plot. You are then required to comment on the distribution of the data generated and how it compares to the theoretical distribution and the estimated distrbution. Furthemore, you are required to provide reasoning based on your own understanding for the differences in the distributions and value of $p$.**\n"
      ]
    },
    {
      "cell_type": "code",
      "execution_count": null,
      "metadata": {
        "colab": {
          "base_uri": "https://localhost:8080/",
          "height": 513
        },
        "id": "4Opjd87pdolw",
        "outputId": "affbc293-eb9a-4faf-fbab-3cf23b7ea911"
      },
      "outputs": [
        {
          "data": {
            "image/png": "[encoded data removed]",
            "text/plain": [
              "<Figure size 576x576 with 1 Axes>"
            ]
          },
          "metadata": {
            "needs_background": "light"
          },
          "output_type": "display_data"
        }
      ],
      "source": [
        "# TODO : Complete the Code Snippet\n",
        "plt.figure(figsize=(8,8))\n",
        "# Plot Data\n",
        "plt.hist(X,bins=[0,1,2,3,4,5,6,7,8,9,10,11], rwidth = 0.5, align = 'left', density=True, color=\"b\", alpha=0.2);\n",
        "n = 10\n",
        "# Plot theoretical distribution\n",
        "rv  =   # create binomial rv for 10 coints with p=0.5 \n",
        "x =     # values which represent the number of heads\n",
        "f =     # f is the pmf of rv for values of x\n",
        "\n",
        "plt.plot(x, f,'-ro', ms=10);\n",
        "plt.vlines(x, 0, f, colors=\"r\", lw=1,alpha=0.5, label='_nolegend_')\n",
        "\n",
        "\n",
        "# Plot MLE Distribution\n",
        "rv  = # create binomial rv for 10 coints with p=0.5 stats.binom(10,exp_p)\n",
        "x =   # values which represent the number of heads np.arange(11)\n",
        "f =   # f is the pmf of rv for values of x\n",
        "\n",
        "plt.plot(x, f,'-go', ms=10);\n",
        "plt.vlines(x, 0, f, colors=\"g\", lw=1,alpha=0.5, label='_nolegend_')\n",
        "\n",
        "\n",
        "# Label, Title, Legend\n",
        "\n",
        "plt.show()\n"
      ]
    },
    {
      "cell_type": "markdown",
      "metadata": {
        "id": "-nU9Grx2TTAm"
      },
      "source": []
    },
    {
      "cell_type": "markdown",
      "metadata": {
        "id": "R1CG3ekPgfe8"
      },
      "source": [
        "# [10 Marks] Task 3 : Naive Bayes Classifier\n"
      ]
    },
    {
      "cell_type": "markdown",
      "metadata": {
        "id": "amaU_1k9PnET"
      },
      "source": [
        "## Bayes Theorem\n",
        "\n",
        "In probability and statistics, Bayes Theorem describes the probability of an event based on prior knowledge of conditions that might be related to the event.\n",
        "\n",
        "Mathematically, Bayes Theorem is given as follows,\n",
        "$$ P(A \\mid B) = \\frac{P( B \\mid A) \\times P(A)}{P(B)} $$\n",
        "\n",
        "where $P(A)$ is the prior probability and $P(A\\mid B)$ is the posterior probability.\n"
      ]
    },
    {
      "cell_type": "markdown",
      "metadata": {
        "id": "661PR7wygJfU"
      },
      "source": [
        "## Naive Bayes Classifier\n",
        "\n",
        "The Naive Bayes Classifier is a classification algorithm based on **Bayes Theorem.**\n",
        "The fundamental Naive Bayes assumption is that each feature makes an\n",
        "\n",
        "- **Independent**\n",
        "- **Equal**\n",
        "\n",
        "contribution to the final outcome.\n",
        "\n",
        "We can apply Bayes' theorem to a given dataset in the following way:\n",
        "\n",
        "$$ P(y\\mid X) = \\frac{P(X\\mid y) \\times P(y)}{P(X)}$$\n",
        "\n",
        "where $y$ is class variable and $X$ is a feature vector of size $n$ represented as $ X = (x_1, x_2,x_3, \\cdots, x_n) $.\n",
        "\n",
        "By subsituiting $X$, we obtain the following result:\n",
        "$$ P(x*1,x_2,x_3,\\cdots,x_n) = \\prod*{i=1}^{n} P(x*i | x_1, \\cdots,x*{i-1},y) $$\n",
        "\n",
        "However, based on the Naive's Bayes assumption of independence we can simplify the above equation as follows:\n",
        "$$ P(x*1,x_2,x_3,\\cdots,x_n) = \\prod*{i=1}^{n} P(x*i | y) $$\n",
        "Consequently, the original equation can be expressed as \n",
        "$$ P(y|x_1,x_2,x_3,\\cdots,x_n) = \\frac{\\prod*{i=1}^{n} P(x_i | y) P(y)}{P(x_1),\\cdots,P(x_n)} $$\n",
        "\n",
        "Furthemore, the denominator is a constant so we can leave it out.\n",
        "$$ P(y|x*1,x_2,x_3,\\cdots,x_n) \\propto P(y) \\prod*{i=1}^{n} P(x_i | y)$$\n",
        "\n",
        "Finally, our classifier model is given as follows:\n",
        "\n",
        "$$ y = {\\arg \\max}_{\\{k \\in 1,\\cdots,K \\}} P(C_k) \\prod_{i=1}^{n} P(x_i | C_k) $$\n",
        "where $P(C_k)$ is the class probability.\n"
      ]
    },
    {
      "cell_type": "markdown",
      "metadata": {
        "id": "i0qqizJf-PpH"
      },
      "source": [
        "**Note:**\n",
        "The Naive Bayes is easy to implement and fast to predict the class of the test data set. It also performs well in multi-class prediction. However, If categorical variable has a category (in test data set), which was not observed in training data set, then model will assign a 0 (zero) probability and will be unable to make a prediction. This is often known as Zero Frequency. To solve this, we can use the smoothing technique. One of the simplest smoothing techniques is called Laplace estimation.\n"
      ]
    },
    {
      "cell_type": "markdown",
      "metadata": {
        "id": "n0WM9aPo7uKX"
      },
      "source": [
        "## Task Overview\n",
        "\n",
        "This task has been sub divided into two parts.\n",
        "\n",
        "- In Part A, you will compute predictions on a small scale data using Naive Bayes classifier given some input features.\n",
        "- In Part B, you are to go over through the code that implements a Naive Bayes Classifer and relate the diffrent functions to the steps that you took in Part A. (**You are not required to implement anything Part B**)\n"
      ]
    },
    {
      "cell_type": "markdown",
      "metadata": {
        "id": "sdO0pnUrPqZn"
      },
      "source": [
        "## [8 Marks] Part A : Play Cricket\n",
        "\n",
        "**Consider a fictional dataset that describes the weather conditions for a game of cricket. Based on the meteorological conditions, each tuple classifies the weather as appropriate or unfit for playing cricket. Your task is to learn a Nave Bayes model that predicts whether or not it is safe to play cricket given the current weather conditions.**\n"
      ]
    },
    {
      "cell_type": "markdown",
      "metadata": {
        "id": "jlGNkaq1iZei"
      },
      "source": [
        "| Weather | Temperature | Humidity | Windy | Label |\n",
        "| ------- | ----------- | -------- | ----- | ----- |\n",
        "| Clear   | Hot         | High     | No    | No    |\n",
        "| Clear   | Hot         | High     | Yes   | No    |\n",
        "| Cloudy  | Hot         | High     | No    | Yes   |\n",
        "| Raining | Mild        | High     | No    | Yes   |\n",
        "| Raining | Cold        | Normal   | No    | Yes   |\n",
        "| Raining | Cold        | Normal   | Yes   | No    |\n",
        "| Cloudy  | Cold        | Normal   | Yes   | Yes   |\n",
        "| Clear   | Mild        | High     | No    | No    |\n",
        "| Clear   | Cold        | Normal   | No    | Yes   |\n",
        "| Raining | Mild        | Normal   | No    | Yes   |\n",
        "| Clear   | Mild        | Normal   | Yes   | Yes   |\n",
        "| Cloudy  | Mild        | High     | Yes   | Yes   |\n",
        "| Cloudy  | Hot         | Normal   | No    | Yes   |\n",
        "| Raining | Mild        | High     | Yes   | No    |\n"
      ]
    },
    {
      "cell_type": "markdown",
      "metadata": {
        "id": "hOLvLqFUn49O"
      },
      "source": [
        "### [4 Marks] Part I : Probability $(X \\mid y)$\n",
        "\n",
        "**Based on the dataset, fill in the missing values in the table below.**\n"
      ]
    },
    {
      "cell_type": "markdown",
      "metadata": {
        "id": "cC8uMX39ogts"
      },
      "source": [
        "| Label       | Yes                 | No                 |\n",
        "| ----------- | ------------------- | ------------------ |\n",
        "| Weather     | P(Weather\\|Yes)     | P(Weather\\|No)     |\n",
        "| Clear       | 2/9                 | ?                  |\n",
        "| Cloudy      | 4/9                 | 0                  |\n",
        "| Raining     | 3/9                   | 2/5                |\n",
        "| Temperature | P(Temperature\\|Yes) | P(Temperature\\|No) |\n",
        "| Hot         | 2/9                 | 2/5                |\n",
        "| Mild        | ?                   | ?                  |\n",
        "| Cold        | 3/9                 | ?                  |\n",
        "| Humidity    | P(Humidity\\|Yes)    | P(Humidity\\|No)    |\n",
        "| High        | 3/9                 | 4/5                |\n",
        "| Normal      | ?                   | 1/5                |\n",
        "| Windy       | P(Windy\\|Yes)       | P(Windy\\|No)       |\n",
        "| Yes         | ?                   | 3/5                |\n",
        "| No          | ?                   | 2/5                |\n"
      ]
    },
    {
      "cell_type": "markdown",
      "metadata": {
        "id": "TDLr6h_Goypm"
      },
      "source": [
        "### [4 Marks] Part II : Compute Predictions\n",
        "\n",
        "**Based on the given weather conditions and Part I, compute the prediction. (No marks given to answers without explanation)**\n"
      ]
    },
    {
      "cell_type": "markdown",
      "metadata": {
        "id": "WmFx6yV-qHMM"
      },
      "source": [
        "| Weather | Temperature | Humiditiy | Windy | Label |\n",
        "| ------- | ----------- | --------- | ----- | ----- |\n",
        "| Raining | Hot         | High      | No    | ?     |\n"
      ]
    },
    {
      "cell_type": "markdown",
      "metadata": {
        "id": "Te7qZXCaqdj8"
      },
      "source": [
        "Explanation.\n"
      ]
    },
    {
      "cell_type": "markdown",
      "metadata": {
        "id": "njZh2fLeqKbJ"
      },
      "source": [
        "| Weather | Temperature | Humidity | Windy | Label |\n",
        "| ------- | ----------- | -------- | ----- | ----- |\n",
        "| Cloudy  | Cold        | Normal   | Yes   | ?     |\n"
      ]
    },
    {
      "cell_type": "markdown",
      "metadata": {
        "id": "hH6X1j-bqlSx"
      },
      "source": [
        "Explanation.\n"
      ]
    },
    {
      "cell_type": "markdown",
      "metadata": {
        "id": "f0GJJ9WaQotR"
      },
      "source": [
        "### [2 Marks] Part B : Text Classification\n",
        "\n",
        "**Part B is the continuation of the work you completed in Part A. In this section, we have provided all the required implementation of a classification model.**\n",
        "\n",
        "**First the functions for loading and preprocessing data are implemented.\n",
        "Then the functions to learn model and to categorize are also implemented.  \n",
        "The dataset that you will be using TextClassification_Data.csv which has been already loaded for you.**\n",
        "\n",
        "**Your task is to read and try to understand the following process. You will have provide a 30 second explaination in viva.**\n"
      ]
    },
    {
      "cell_type": "code",
      "execution_count": null,
      "metadata": {
        "id": "VV2AuqKihT7T"
      },
      "outputs": [],
      "source": [
        "# Load Dataset\n",
        "def load_file(fileName):\n",
        "    \"\"\"\n",
        "    fileName: The name of the file which needs to be loaded.\n",
        "    Load csv file into a pandas dataframe.\n",
        "    \"\"\"\n",
        "    dataset = pd.read_table(fileName,\n",
        "                            header=0,\n",
        "                            sep=\",\",\n",
        "                            encoding=\"unicode_escape\")\n",
        "    return dataset\n",
        "\n",
        "\n",
        "# Preprocess Data\n",
        "def preprocess(data):\n",
        "    \"\"\"\n",
        "    data: Dataset which needs to be pre-processed.\n",
        "    Creates the term frequency matrix for the review data set.\n",
        "    \"\"\"\n",
        "    # https://scikit-learn.org/stable/modules/generated/sklearn.feature_extraction.text.CountVectorizer.html (Please see this if you need any help)\n",
        "    count_vectorizer = CountVectorizer()\n",
        "    data = count_vectorizer.fit_transform(data)\n",
        "    return data\n"
      ]
    },
    {
      "cell_type": "code",
      "execution_count": null,
      "metadata": {
        "id": "zq8u1WnEhgY4"
      },
      "outputs": [],
      "source": [
        "# Learn Model\n",
        "def learn_model(data, target):\n",
        "    \"\"\"\n",
        "    data: Feature Vector (Matrix)\n",
        "    target: Training Labels\n",
        "    Returns the trained model which is a tuple consisting of\n",
        "    P(X|y) (Probabilities of each feature given class y)\n",
        "    P(Y) (Probability of each class)\n",
        "    \"\"\"\n",
        "    # Initialize the model\n",
        "    model = None\n",
        "    # Convert the data into a numpy array using the toarray() method\n",
        "    Array = data.toarray()\n",
        "    # Store the dimensions of the array into array_row,array_col\n",
        "    array_row, array_col = Array.shape\n",
        "    # Get a list of all the unique classes from target\n",
        "    Y = list(np.unique(target))\n",
        "    # Initialize X_given_C\n",
        "    # P (X | C) (Probability of features given class y)\n",
        "    X_given_y = np.zeros((len(Y), array_col))\n",
        "    # Initialize the list to store probability of each particular class\n",
        "    # P(C)\n",
        "    Probability = [0] * len(Y)\n",
        "    # Traverse through each class\n",
        "    for index in range(len(Y)):\n",
        "        # Subsetting the rows belonging to a particular class.\n",
        "        temp = Array[target == Y[index]]\n",
        "        # Store the dimensions of Temp Array.\n",
        "        class_row, class_col = temp.shape\n",
        "        X_given_y[index] = np.sum(temp, axis=0)\n",
        "        # Peform Lapalace Estimation by adding 1 so that none of the feature has a probability of zero for a given class.\n",
        "        X_given_y[index] += 1\n",
        "        Sum_Y_given_C = np.sum(X_given_y[index])\n",
        "        # P(X|y) -> Probabilitity of each feature given class Y.\n",
        "        X_given_y[index] = X_given_y[index] / Sum_Y_given_C\n",
        "        # P(y) -> Probability of each Class\n",
        "        Probability[index] = class_row / array_row\n",
        "    # Create a series with Class Labels as the index and the probability as values.\n",
        "    Class_Probability = pd.Series(Probability, Y)\n",
        "    # Create model\n",
        "    model = (X_given_y, Class_Probability)\n",
        "    return model\n"
      ]
    },
    {
      "cell_type": "code",
      "execution_count": null,
      "metadata": {
        "id": "vghFPdhDhjl4"
      },
      "outputs": [],
      "source": [
        "# Compute Prediction\n",
        "def classify(model, testdata):\n",
        "    # Initialize list to store predicted Label.\n",
        "    Predicted_val = []\n",
        "    # Probability of features given class Y.\n",
        "    P_given_C = model[0]\n",
        "    # Probability of each class along with class label.\n",
        "    Class_Probability = model[1]\n",
        "    Classes = Class_Probability.index\n",
        "    # Convert test data to numpy array.\n",
        "    TestArray = testdata.toarray()\n",
        "    # Store the dimension of the TestArray in the variables ArrayRow,ArrayCol\n",
        "    ArrayRow, ArrayCol = TestArray.shape\n",
        "    # Loop through each dataset\n",
        "    for i in range(ArrayRow):\n",
        "        # Initialize Probabilites list with zero to store probability for each class.\n",
        "        Probabilities = [0] * len(Classes)\n",
        "        # Compute the probability for each class given data\n",
        "        for j in range(len(Classes)):\n",
        "            # Extract those features which are present in the dataset instance and multiply their probabilities.\n",
        "            # Probabilities can be extracted from P_given_C\n",
        "            Probabilities[j] = (Class_Probability[Classes[j]] *\n",
        "                                P_given_C[j][TestArray[i].astype(bool)].prod())\n",
        "        # Store the computed probabilities in a series\n",
        "        temp_series = pd.Series(Probabilities, Classes)\n",
        "        # Predicted label is the class with the highest probability.\n",
        "        Predicted_val.append(temp_series.idxmax())\n",
        "    # Return list of predicted labels.\n",
        "    return Predicted_val\n"
      ]
    },
    {
      "cell_type": "code",
      "execution_count": null,
      "metadata": {
        "colab": {
          "base_uri": "https://localhost:8080/"
        },
        "id": "k5jIj4p7HQ7I",
        "outputId": "7c2fe765-3e39-4be2-9177-7234f307ddb0"
      },
      "outputs": [
        {
          "name": "stdout",
          "output_type": "stream",
          "text": [
            "Loading data.....\n",
            "preprocessing data.....\n",
            "Train & Test split....\n",
            "Learning model.....\n",
            "Classifying test data......\n",
            "Evaluating results.....\n",
            "0.7048271648044693\n"
          ]
        }
      ],
      "source": [
        "# DO NOT EDIT\n",
        "features = [\"SUMMARY\", \"categories\", \"sub_categories\"]\n",
        "# Load Dataset\n",
        "print(\"Loading data.....\")\n",
        "dataset = load_file(\"TextClassification_Data.csv\")\n",
        "data, target = dataset[features[0]].fillna(\" \"), dataset[features[1]]\n",
        "\n",
        "# Pre process Dataset\n",
        "print(\"preprocessing data.....\")\n",
        "word_vectors = preprocess(data)\n",
        "\n",
        "# Split Data into train & test Data\n",
        "print(\"Train & Test split....\")\n",
        "trainingX, testX, trainingY, testY = train_test_split(word_vectors,\n",
        "                                                      target,\n",
        "                                                      test_size=0.4,\n",
        "                                                      random_state=43)\n",
        "\n",
        "# Train Model\n",
        "print(\"Learning model.....\")\n",
        "# Uncomment the below two lines (Sklearn Implementation of Naive Bayes) to check if your code is performing correctly.\n",
        "# classifier = BernoulliNB()\n",
        "# classifier.fit(trainingX,trainingY)\n",
        "model = learn_model(trainingX, trainingY)\n",
        "\n",
        "# Compute Prediction\n",
        "print(\"Classifying test data......\")\n",
        "# Uncomment the below line to compute predictions using sklearn model and verify your results.\n",
        "# predictedY = classifier.predict(testX)\n",
        "predictedY = classify(model, testX)\n",
        "\n",
        "# Evaluate Results\n",
        "print(\"Evaluating results.....\")\n",
        "print(metrics.accuracy_score(testY, predictedY))\n"
      ]
    },
    {
      "cell_type": "markdown",
      "metadata": {
        "id": "C0FGyWRmWOp6"
      },
      "source": [
        "# **Note: Task 4 is a bonus Question and should only be attempted if all the other tasks have been completed.**\n"
      ]
    },
    {
      "cell_type": "markdown",
      "metadata": {
        "id": "j6spi6oTDHMo"
      },
      "source": [
        "# [0 Marks] Task 4 : Bayesian Updating\n"
      ]
    },
    {
      "cell_type": "markdown",
      "metadata": {
        "id": "3B-TEi1w-fcF"
      },
      "source": [
        "## Bayesian Updating\n",
        "\n",
        "The Bayesian keeps on updating their beliefs based on the events that they see. For example a Bayesian might initially holds the belief that the moon comes out every night with a probability of 1/2. As more nights pass, they see the moon a lot more, and their beliefs start to change becoming closer to reality.\n",
        "\n",
        "This is extremely intuitive. For example, assume that a pharmaceutical company makes a medicine and claims that it is 90% effective. You see it in action and find it failing more times than succeeding. You would update your beliefs appropriately.\n",
        "\n",
        "This question is supposed to simulate the concept of Bayesian updating.\n",
        "\n",
        "$$P(H|D) = \\frac{P(D|H) P(H)}{P(D)}$$\n",
        "\n",
        "$H$ is the hypothesis (our belief about the distribution). $D$ is the data. $P(D)$ can be computed by the total probability rule.\n"
      ]
    },
    {
      "cell_type": "markdown",
      "metadata": {
        "id": "4SeLfn0uWvcr"
      },
      "source": [
        "## Example\n",
        "\n",
        "Shayan, a TA of the course attempts to play a game with you. He says that he has 2 types of coin. One coin is fair. The other is biased (80% of the time it shows up heads and 20% of the time it shows tails)\n",
        "\n",
        "He tells you that he would fairly chose one of these coins (50% probability of choosing each)\n",
        "\n",
        "Imagine that you get a tails. Intuitively, we would believe that now that the coin is likely to be fair\n",
        "\n",
        "$$P(\\text{Fair}\\mid \\text{Tails}) = P(\\text{Tails} \\mid  \\text{Fair}) \\times P(\\text{Fair}) = 0.5\\times 0.5 = 0.25$$\n",
        "$$P(\\text{Biased} \\mid Tails) = P(\\text{Tails} \\mid \\text{Biased}) \\times P(\\text{Biased}) = 0.2\\times 0.5 = 0.1$$\n",
        "\n",
        "Therefore our revised beliefs are that the fair coin occurs with probability\n",
        "$$\\frac{0.25}{0.35}= \\frac{5}{7}$$\n",
        "and the biased coin with probability\n",
        "$$\\frac{0.1}{0.35}= \\frac{2}{7}$$\n",
        "\n",
        "This reflects reality more.\n"
      ]
    },
    {
      "cell_type": "markdown",
      "metadata": {
        "id": "1tH8u-tA-3il"
      },
      "source": [
        "## Task Overview\n",
        "\n",
        "**Your goal is to implement this same situation in code. You are given the functions $\\texttt{biased\\_coin}$ and $\\texttt{fair\\_coin}$ to simulate the coin Shayan uses. You are also given a function $\\texttt{normalize}$ which takes a dictionary of probability and normalizes them such that the probability sums up to 1.You start of with a dictionary containing your current beliefs, initialized to 0.5 each reflecting the statement of Shayan. Based on the coin flips, update them and at the end, output your final beliefs.**\n"
      ]
    },
    {
      "cell_type": "code",
      "execution_count": null,
      "metadata": {
        "id": "FKrrdSbaBOkb"
      },
      "outputs": [],
      "source": [
        "# DO NOT EDIT\n",
        "def biased_coin():\n",
        "    return np.random.choice(2, p=[0.2, 0.8])\n",
        "\n",
        "\n",
        "def fair_coin():\n",
        "    return np.random.choice(2, p=[0.5, 0.5])\n"
      ]
    },
    {
      "cell_type": "code",
      "execution_count": null,
      "metadata": {
        "id": "G9QiEWM2S0Pp"
      },
      "outputs": [],
      "source": [
        "# DO NOT EDIT\n",
        "def normalise(current_beliefs):\n",
        "    total = sum(current_beliefs.values())\n",
        "    for i in current_beliefs:\n",
        "        current_beliefs[i] /= total\n"
      ]
    },
    {
      "cell_type": "code",
      "execution_count": null,
      "metadata": {
        "colab": {
          "base_uri": "https://localhost:8080/"
        },
        "id": "fezE6bNJS130",
        "outputId": "b805ce83-4c7f-4cca-97e7-3a93609ee9b5"
      },
      "outputs": [
        {
          "name": "stdout",
          "output_type": "stream",
          "text": [
            "{'fair': 0.6995468959763333, 'biased': 0.30045310402366665}\n"
          ]
        }
      ],
      "source": [
        "beliefs = {\"fair\":0.5,\"biased\":0.5}\n",
        "# Toss n times\n",
        "n = 10\n",
        "coin_tosses = [fair_coin() for _ in range(n)]\n",
        "current_beliefs = {\"fair\":0.5,\"biased\":0.5}\n",
        "\n",
        "for flip in coin_tosses:\n",
        "  # TODO: Implement what needs to be done for each coin flip\n",
        "print(current_beliefs)"
      ]
    }
  ],
  "metadata": {
    "colab": {
      "collapsed_sections": [],
      "name": "Project_2_Student_Version (1).ipynb",
      "provenance": []
    },
    "kernelspec": {
      "display_name": "Python 3",
      "name": "python3"
    },
    "language_info": {
      "codemirror_mode": {
        "name": "ipython",
        "version": 3
      },
      "file_extension": ".py",
      "mimetype": "text/x-python",
      "name": "python",
      "nbconvert_exporter": "python",
      "pygments_lexer": "ipython3",
      "version": "3.9.6"
    }
  },
  "nbformat": 4,
  "nbformat_minor": 0
}
